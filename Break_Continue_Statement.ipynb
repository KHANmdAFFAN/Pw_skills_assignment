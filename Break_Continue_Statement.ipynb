{
 "cells": [
  {
   "cell_type": "markdown",
   "id": "5604647e-c502-43df-a157-6233a1d1e991",
   "metadata": {},
   "source": [
    "### Question1"
   ]
  },
  {
   "cell_type": "markdown",
   "id": "321f3d7c-2ebd-479c-a0a2-aeb7f0b7c02b",
   "metadata": {},
   "source": [
    "- Write a program to print numbers from  to 0, but stop if the number is 5."
   ]
  },
  {
   "cell_type": "code",
   "execution_count": 11,
   "id": "4053c652-0dc4-4f35-b29b-5db94299e98b",
   "metadata": {},
   "outputs": [
    {
     "name": "stdin",
     "output_type": "stream",
     "text": [
      "Enter the number :  10\n"
     ]
    },
    {
     "name": "stdout",
     "output_type": "stream",
     "text": [
      "0\n",
      "1\n",
      "2\n",
      "3\n",
      "4\n"
     ]
    }
   ],
   "source": [
    "num1 = int(input(\"Enter the number : \"))\n",
    "\n",
    "for i in range(0,num1+1):\n",
    "    if i == 5:\n",
    "        break\n",
    "    print(i)"
   ]
  },
  {
   "cell_type": "markdown",
   "id": "2ed2d3c0-a627-4209-9ce9-ca8f8a4f638b",
   "metadata": {},
   "source": [
    "## Question 2"
   ]
  },
  {
   "cell_type": "markdown",
   "id": "4db43da7-d097-411d-99b6-54b279a0457f",
   "metadata": {},
   "source": [
    "- Write a program to iterate through a list and stop when encountering a specific element."
   ]
  },
  {
   "cell_type": "code",
   "execution_count": 15,
   "id": "f305d575-f53b-4a7d-8359-9d6d05f32b92",
   "metadata": {},
   "outputs": [],
   "source": [
    "list1 = [14, 16, 18, 20,(4,5,6) ,22,\"Pw\" ,24, \"Skill\"]"
   ]
  },
  {
   "cell_type": "code",
   "execution_count": 16,
   "id": "4292dd77-dcac-48bd-9c63-49b3f2c64508",
   "metadata": {},
   "outputs": [
    {
     "name": "stdout",
     "output_type": "stream",
     "text": [
      "14\n",
      "16\n",
      "18\n",
      "20\n"
     ]
    }
   ],
   "source": [
    "for i in list1:\n",
    "    if type(i) == tuple:\n",
    "        break\n",
    "    print(i)"
   ]
  },
  {
   "cell_type": "markdown",
   "id": "03524fdb-aadd-4bcc-8bb8-53e6227c89af",
   "metadata": {},
   "source": [
    "##  Question 3"
   ]
  },
  {
   "cell_type": "markdown",
   "id": "1ba6b747-f3ec-44c5-bcc7-c3cad2dcf83f",
   "metadata": {},
   "source": [
    "- Write a program to skip printing even numbers from  1 to 10."
   ]
  },
  {
   "cell_type": "code",
   "execution_count": 18,
   "id": "8701c17a-4171-4e71-a45e-b066e0cca71f",
   "metadata": {},
   "outputs": [
    {
     "name": "stdout",
     "output_type": "stream",
     "text": [
      "1 3 5 7 9 "
     ]
    }
   ],
   "source": [
    "for i in range(1,11):\n",
    "    if i%2==0:\n",
    "        continue\n",
    "    print(i, end=\" \")"
   ]
  },
  {
   "cell_type": "markdown",
   "id": "aad7c351-488e-4da1-90b1-7e0dee3db7f3",
   "metadata": {},
   "source": [
    "## Question 4"
   ]
  },
  {
   "cell_type": "markdown",
   "id": "9df5023e-e77b-4dd8-bbea-8a96ad4a254b",
   "metadata": {},
   "source": [
    "- Write a program to print numbers from 0 to 9 using range()."
   ]
  },
  {
   "cell_type": "code",
   "execution_count": 20,
   "id": "94c7becf-2350-4670-9edf-086040f942d9",
   "metadata": {},
   "outputs": [
    {
     "name": "stdout",
     "output_type": "stream",
     "text": [
      "0\n",
      "1\n",
      "2\n",
      "3\n",
      "4\n",
      "5\n",
      "6\n",
      "7\n",
      "8\n",
      "9\n"
     ]
    }
   ],
   "source": [
    "for i in range(0,10):\n",
    "    print(i)"
   ]
  },
  {
   "cell_type": "markdown",
   "id": "0dc3a62f-4f98-466f-828c-51b8a83a6b39",
   "metadata": {},
   "source": [
    "## Question 5"
   ]
  },
  {
   "cell_type": "markdown",
   "id": "02a060ca-5636-485e-8ca4-a1f5fe810cb7",
   "metadata": {},
   "source": [
    "- Write a program to print multiplication tables from  1 to 5, but stop after the first table is printed for each number."
   ]
  },
  {
   "cell_type": "code",
   "execution_count": 24,
   "id": "38b3e015-5fb7-4409-939b-1c684a5747ac",
   "metadata": {},
   "outputs": [
    {
     "name": "stdout",
     "output_type": "stream",
     "text": [
      "1 X 1 = 1\n",
      "1 X 2 = 2\n",
      "1 X 3 = 3\n",
      "1 X 4 = 4\n",
      "1 X 5 = 5\n",
      "1 X 6 = 6\n",
      "1 X 7 = 7\n",
      "1 X 8 = 8\n",
      "1 X 9 = 9\n",
      "1 X 10 = 10\n",
      "\n"
     ]
    }
   ],
   "source": [
    "for i in range(1,6):\n",
    "    \n",
    "    for j in range(1,11):\n",
    "        result = i*j\n",
    "        print(f\"{i} X {j} = {result}\")\n",
    "    print()\n",
    "    \n",
    "    break"
   ]
  },
  {
   "cell_type": "markdown",
   "id": "beae0036-7c4a-4448-89a6-358e5717ed88",
   "metadata": {},
   "source": [
    "## Question 6"
   ]
  },
  {
   "cell_type": "markdown",
   "id": "4e393acf-57dc-4f6a-984e-02e46f3002bb",
   "metadata": {},
   "source": [
    "- Write a program to skip printing even numbers using a while loop."
   ]
  },
  {
   "cell_type": "code",
   "execution_count": 33,
   "id": "deeda905-0192-4993-9851-8b0fe7e3a5ad",
   "metadata": {},
   "outputs": [
    {
     "name": "stdin",
     "output_type": "stream",
     "text": [
      "Enter the first number :  10\n"
     ]
    },
    {
     "name": "stdout",
     "output_type": "stream",
     "text": [
      "1\n",
      "3\n",
      "5\n",
      "7\n",
      "9\n"
     ]
    }
   ],
   "source": [
    "num1 = int(input(\"Enter the first number : \"))\n",
    "\n",
    "i = 1\n",
    "\n",
    "while num1>i:\n",
    "    if i%2==0:\n",
    "        i = i+1\n",
    "        continue\n",
    "    print(i)\n",
    "    i = i+1"
   ]
  },
  {
   "cell_type": "code",
   "execution_count": null,
   "id": "8df2e940-a0f8-48f3-816b-76e2166390fe",
   "metadata": {},
   "outputs": [],
   "source": []
  }
 ],
 "metadata": {
  "kernelspec": {
   "display_name": "Python 3 (ipykernel)",
   "language": "python",
   "name": "python3"
  },
  "language_info": {
   "codemirror_mode": {
    "name": "ipython",
    "version": 3
   },
   "file_extension": ".py",
   "mimetype": "text/x-python",
   "name": "python",
   "nbconvert_exporter": "python",
   "pygments_lexer": "ipython3",
   "version": "3.10.8"
  }
 },
 "nbformat": 4,
 "nbformat_minor": 5
}
