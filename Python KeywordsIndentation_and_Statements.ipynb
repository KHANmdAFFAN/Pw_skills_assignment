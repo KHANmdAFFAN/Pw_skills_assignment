{
 "cells": [
  {
   "cell_type": "markdown",
   "id": "6990bb18-b497-48c5-bb9f-6fe8e79bb849",
   "metadata": {},
   "source": [
    "##### Quetion 1"
   ]
  },
  {
   "cell_type": "markdown",
   "id": "1c3b8bd4-56a5-4eb4-953b-cfb7456453f5",
   "metadata": {},
   "source": [
    "- Explain the significance of python  keywords and provide examples of five keywords"
   ]
  },
  {
   "cell_type": "raw",
   "id": "a262f4ac-e248-421c-adb1-bd54a2e57331",
   "metadata": {},
   "source": [
    "Python Keywords are some predefined and reserved words in Python that have special meanings. Keywords are used to define the syntax of the coding. The keyword cannot be used as an identifier, function, or variable name. All the keywords in Python are written in lowercase except True and False.\n",
    "\n",
    "for example"
   ]
  },
  {
   "cell_type": "code",
   "execution_count": 2,
   "id": "e9ed185d-ffe0-4dcb-95ff-551fb95b1700",
   "metadata": {},
   "outputs": [
    {
     "name": "stdout",
     "output_type": "stream",
     "text": [
      "example of keywords \n",
      "['False', 'None', 'True', 'and', 'as', 'assert', 'async', 'await', 'break', 'class', 'continue', 'def', 'del', 'elif', 'else', 'except', 'finally', 'for', 'from', 'global', 'if', 'import', 'in', 'is', 'lambda', 'nonlocal', 'not', 'or', 'pass', 'raise', 'return', 'try', 'while', 'with', 'yield']\n"
     ]
    }
   ],
   "source": [
    "import keyword\n",
    "print(\"example of keywords \")\n",
    "print(keyword.kwlist)"
   ]
  },
  {
   "cell_type": "markdown",
   "id": "dde7846d-5b51-4561-b8d5-cee5ec0c17a6",
   "metadata": {},
   "source": [
    "### Question 2"
   ]
  },
  {
   "cell_type": "markdown",
   "id": "46b72267-372b-4fd7-8181-f1b7363c5986",
   "metadata": {},
   "source": [
    "- Describe the rules for defining identifiers in Python and provide an example"
   ]
  },
  {
   "cell_type": "raw",
   "id": "798e162c-bae4-491d-9ca4-bfa778e80e28",
   "metadata": {},
   "source": [
    "In Python, identifiers are names given to entities such as variables, functions, classes, modules, etc. There are certain rules to follow when defining identifiers:\n",
    "\n",
    "Valid Characters: Identifiers can consist of letters (both uppercase and lowercase), numbers, and underscore (_) characters. However, they cannot start with a number.\n",
    "\n",
    "Case Sensitivity: Python is case-sensitive, so uppercase and lowercase letters are considered different. For example, myVar and myvar are two distinct identifiers.\n",
    "\n",
    "Reserved Words: Identifiers cannot be a reserved word in Python. These are words that have special meanings in the language and cannot be used for naming entities. Examples include if, else, while, class, etc."
   ]
  },
  {
   "cell_type": "code",
   "execution_count": 6,
   "id": "8fa95904-1336-4556-be1d-084ea2838889",
   "metadata": {},
   "outputs": [],
   "source": [
    "# valid varible\n",
    "v_n = 43\n",
    "_vn = 45\n",
    "v1n = 60\n",
    "vn1 = 70\n"
   ]
  },
  {
   "cell_type": "code",
   "execution_count": 7,
   "id": "6a82e400-e0d9-4f90-8d48-5320ade911dc",
   "metadata": {},
   "outputs": [
    {
     "ename": "SyntaxError",
     "evalue": "invalid decimal literal (2134093350.py, line 3)",
     "output_type": "error",
     "traceback": [
      "\u001b[0;36m  Cell \u001b[0;32mIn[7], line 3\u001b[0;36m\u001b[0m\n\u001b[0;31m    1_v = 47\u001b[0m\n\u001b[0m     ^\u001b[0m\n\u001b[0;31mSyntaxError\u001b[0m\u001b[0;31m:\u001b[0m invalid decimal literal\n"
     ]
    }
   ],
   "source": [
    "# invalid variable\n",
    "v@1 = 45\n",
    "1_v = 47"
   ]
  },
  {
   "cell_type": "markdown",
   "id": "15b10a96-5323-43b9-bb16-ab5d74f6a770",
   "metadata": {},
   "source": [
    "### Question 3"
   ]
  },
  {
   "cell_type": "markdown",
   "id": "9b3108a8-98cb-4e7b-9761-5d7595061b1c",
   "metadata": {},
   "source": [
    "- 8 What are comments in Python, and why are they useful Provide an example"
   ]
  },
  {
   "cell_type": "raw",
   "id": "5cfafe85-1a49-4a63-91ee-81ddd10f64f8",
   "metadata": {},
   "source": [
    "In Python, comments are text annotations within the code that are ignored by the interpreter during the execution of the program. They are used to provide additional information, explanations, or context to the code for developers. Comments are essential for code readability, documentation, and collaboration among team members."
   ]
  },
  {
   "cell_type": "markdown",
   "id": "15a5a717-2823-4696-a41d-792d21855658",
   "metadata": {},
   "source": [
    "- Single-line comments: These comments are written using the # symbol and extend from the # symbol to the end of the line."
   ]
  },
  {
   "cell_type": "code",
   "execution_count": 9,
   "id": "0e1cfe70-1af7-41ec-897e-0ba9ff63c522",
   "metadata": {},
   "outputs": [],
   "source": [
    "# This is a single-line comment\n",
    "v_1e = 42  # Another comment on the same line"
   ]
  },
  {
   "cell_type": "markdown",
   "id": "61b3038e-d069-450a-bcba-0afd582f3be1",
   "metadata": {},
   "source": [
    "- Multi-line comments (docstrings)"
   ]
  },
  {
   "cell_type": "raw",
   "id": "700128f6-352a-467f-9bad-30676b60a995",
   "metadata": {},
   "source": [
    "In Python, docstrings are often used as a form of multi-line comments. Docstrings are string literals that occur as the first statement in a module, class, function, or method definition. While their primary purpose is to serve as documentation,"
   ]
  },
  {
   "cell_type": "code",
   "execution_count": 11,
   "id": "5b30d738-d955-472c-a177-937fe676e9bc",
   "metadata": {},
   "outputs": [],
   "source": [
    "def square(side_length):\n",
    "    \"\"\"\n",
    "    This function calculates the area of a square.\n",
    "\n",
    "    Parameters:\n",
    "    - side_length (float): The length of one side of the square.\n",
    "\n",
    "    Returns:\n",
    "    - float: The area of the square.\n",
    "    \"\"\"\n",
    "    return side_length ** 2"
   ]
  },
  {
   "cell_type": "code",
   "execution_count": 12,
   "id": "0a61848f-1003-435c-908c-ecb9d6761e58",
   "metadata": {},
   "outputs": [
    {
     "data": {
      "text/plain": [
       "16"
      ]
     },
     "execution_count": 12,
     "metadata": {},
     "output_type": "execute_result"
    }
   ],
   "source": [
    "square(4)"
   ]
  },
  {
   "cell_type": "markdown",
   "id": "494e52e9-a58f-4cd1-b9b4-7b7947755dc2",
   "metadata": {},
   "source": [
    "## Question 4"
   ]
  },
  {
   "cell_type": "markdown",
   "id": "26503165-924b-43e2-8bd0-6618234ea122",
   "metadata": {},
   "source": [
    "- Why is proper indentation important in Python"
   ]
  },
  {
   "cell_type": "raw",
   "id": "7e2d148b-b36b-48e3-9f8d-99b68a11fa33",
   "metadata": {},
   "source": [
    "Proper indentation is crucial in Python for code readability and structure. It defines the block structure, ensuring that the interpreter correctly interprets the code's logic and facilitates collaboration among developers."
   ]
  },
  {
   "cell_type": "markdown",
   "id": "2257adde-33e1-45a7-8d52-476b1d217aca",
   "metadata": {},
   "source": [
    "### Question 5"
   ]
  },
  {
   "cell_type": "markdown",
   "id": "1a760ab5-2073-413d-8224-1054efcecfe4",
   "metadata": {},
   "source": [
    "- What happens if indentation is incorrect in Python"
   ]
  },
  {
   "cell_type": "raw",
   "id": "4a02ad29-4c45-4be3-9ca4-d84170fbefaf",
   "metadata": {},
   "source": [
    "Incorrect indentation in Python leads to syntax errors and can cause the program to behave unexpectedly, as indentation is used to define code blocks. It's a fundamental part of Python's syntax for structuring and organizing code."
   ]
  },
  {
   "cell_type": "markdown",
   "id": "c2b60aeb-1ff5-465d-9384-b8995de9cbed",
   "metadata": {},
   "source": [
    "## Question 6\n"
   ]
  },
  {
   "cell_type": "markdown",
   "id": "e7767697-cfda-49fe-8040-2563b3c34c07",
   "metadata": {},
   "source": [
    "- Differentiate 0etween expression and statement in Python with examples"
   ]
  },
  {
   "cell_type": "raw",
   "id": "b6afd21a-ff57-4d44-89a4-463bbd8e0445",
   "metadata": {},
   "source": [
    "Expression in Python:\n",
    "\n",
    "An expression is a combination of values, variables, and operators that results in a value when evaluated.\n",
    "it always return a value"
   ]
  },
  {
   "cell_type": "code",
   "execution_count": 14,
   "id": "abbabee6-2c02-4011-ba71-a4ba308c6a15",
   "metadata": {},
   "outputs": [
    {
     "data": {
      "text/plain": [
       "8"
      ]
     },
     "execution_count": 14,
     "metadata": {},
     "output_type": "execute_result"
    }
   ],
   "source": [
    "result = 3 + 5 * (2 - 1)\n",
    "result"
   ]
  },
  {
   "cell_type": "raw",
   "id": "62431f75-39e4-4c25-a523-b6b9dd537a9a",
   "metadata": {},
   "source": [
    "Statement in Python:\n",
    "\n",
    "A statement is a complete line of code that performs an action.\n",
    "Unlike expressions, statements don't necessarily return a value."
   ]
  },
  {
   "cell_type": "code",
   "execution_count": 15,
   "id": "3f9e716a-fdc2-4760-91b3-70411bbc36bd",
   "metadata": {},
   "outputs": [
    {
     "name": "stdout",
     "output_type": "stream",
     "text": [
      "Hello, World!\n"
     ]
    }
   ],
   "source": [
    "print(\"Hello, World!\")"
   ]
  },
  {
   "cell_type": "code",
   "execution_count": null,
   "id": "470ead95-07da-4dc6-94d5-6ff5b0a3929b",
   "metadata": {},
   "outputs": [],
   "source": []
  }
 ],
 "metadata": {
  "kernelspec": {
   "display_name": "Python 3 (ipykernel)",
   "language": "python",
   "name": "python3"
  },
  "language_info": {
   "codemirror_mode": {
    "name": "ipython",
    "version": 3
   },
   "file_extension": ".py",
   "mimetype": "text/x-python",
   "name": "python",
   "nbconvert_exporter": "python",
   "pygments_lexer": "ipython3",
   "version": "3.10.8"
  }
 },
 "nbformat": 4,
 "nbformat_minor": 5
}
