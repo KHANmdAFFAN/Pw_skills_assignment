{
 "cells": [
  {
   "cell_type": "code",
   "execution_count": null,
   "id": "35955c99-4beb-4d08-8cd4-f51607eff003",
   "metadata": {},
   "outputs": [],
   "source": [
    "#1 Explain the importance of Functions\n",
    "#functions >> it is a block of code that performs some specific computations\n",
    "#it keeps your code neat and clean , organise , reuseable"
   ]
  },
  {
   "cell_type": "code",
   "execution_count": 21,
   "id": "f267bd86-0366-4680-94aa-48a40de08a0b",
   "metadata": {},
   "outputs": [
    {
     "name": "stdin",
     "output_type": "stream",
     "text": [
      " John Wick\n"
     ]
    },
    {
     "data": {
      "text/plain": [
       "'Hello John Wick Welcome to the class'"
      ]
     },
     "execution_count": 21,
     "metadata": {},
     "output_type": "execute_result"
    }
   ],
   "source": [
    "#2 Write a basic function to greet students\n",
    "def greet(student):\n",
    "    return f\"Hello {student} Welcome to the class\"\n",
    "stud = input()\n",
    "greet(stud)\n",
    "    "
   ]
  },
  {
   "cell_type": "code",
   "execution_count": 22,
   "id": "d1ddfa30-a9a5-419a-b481-1a4f5a8925e6",
   "metadata": {},
   "outputs": [
    {
     "name": "stdout",
     "output_type": "stream",
     "text": [
      "Hello, World!\n"
     ]
    },
    {
     "data": {
      "text/plain": [
       "8"
      ]
     },
     "execution_count": 22,
     "metadata": {},
     "output_type": "execute_result"
    }
   ],
   "source": [
    "#3 What is the difference between print and return statements\n",
    "#print() is a Python built-in function used to display output to the console or standard output device\n",
    "print(\"Hello, World!\")\n",
    "\n",
    "#return is a keyword used within functions to exit the function and return a value to the caller.\n",
    "#It is used to send back the result of a function's \n",
    "#return terminates the execution of the function and passes a value (if specified) back to the caller. \n",
    "#If no value is explicitly returned, the function returns None by default.\n",
    "def add(x, y):\n",
    "    return x + y\n",
    "\n",
    "add(3, 5)"
   ]
  },
  {
   "cell_type": "code",
   "execution_count": 30,
   "id": "a9f2d2c1-a2b3-4f1d-9c80-a6b98e84aae6",
   "metadata": {},
   "outputs": [],
   "source": [
    "#4 What are *args and **kwargs"
   ]
  },
  {
   "cell_type": "markdown",
   "id": "8da8348a-beeb-4320-af71-b4bc35eda15f",
   "metadata": {},
   "source": [
    "- *args\n",
    "- *args in function definitions in python is used to pass a variable number of arguments to a function *args is a special syntax in Python that allows a function to accept a variable number of positional arguments. When you're not sure how many arguments might be passed to your function, \n",
    "- you can use *args as a parameter, and it will gather all the positional arguments into a tuple.\n",
    "- You can use any name instead of args, but the * before the parameter name is what indicates that it will collect all the positional arguments into a tuple"
   ]
  },
  {
   "cell_type": "code",
   "execution_count": 29,
   "id": "8bf9b48c-dd36-4fed-8d6e-f627bf8c7c2f",
   "metadata": {},
   "outputs": [
    {
     "data": {
      "text/plain": [
       "188"
      ]
     },
     "execution_count": 29,
     "metadata": {},
     "output_type": "execute_result"
    }
   ],
   "source": [
    "def args_key(*args):\n",
    "    return sum(args)\n",
    "\n",
    "args_key(5,4,3,33,45,98)"
   ]
  },
  {
   "cell_type": "markdown",
   "id": "333932b7-aae6-43b1-a628-2efcf9f2c72d",
   "metadata": {},
   "source": [
    "- *kwargs\n",
    "- **kwargs in function definitions in python is used to pass a keyworded, variable-length argument list *kwargs in Python allows a function to accept a variable number of keyword arguments, capturing them into a dictionary within the function. This syntax is particularly useful when you want to handle named arguments within a function where the number of arguments is not known in advance. Just like with *args, you can use any name instead of kwargs, but the * before the parameter name is what indicates that it will collect all the keyword arguments into a dictionary."
   ]
  },
  {
   "cell_type": "code",
   "execution_count": 32,
   "id": "ea8135b9-125e-4c24-b928-e165308a18e0",
   "metadata": {},
   "outputs": [
    {
     "data": {
      "text/plain": [
       "{'a': 'apple', 'b': 'ball', 'c': 'cat'}"
      ]
     },
     "execution_count": 32,
     "metadata": {},
     "output_type": "execute_result"
    }
   ],
   "source": [
    "def kwargs_key(**kwargs):\n",
    "    return kwargs\n",
    "kwargs_key(a = \"apple\",b=\"ball\",c=\"cat\")"
   ]
  },
  {
   "cell_type": "code",
   "execution_count": null,
   "id": "6d3d96de-0052-443e-b44a-346c74afa40a",
   "metadata": {},
   "outputs": [],
   "source": [
    "#5 Explain the iterator function"
   ]
  },
  {
   "cell_type": "markdown",
   "id": "8b013c2e-6be8-45c3-8c7b-06a9836b0252",
   "metadata": {},
   "source": [
    "- An iterator function in Python returns an iterator object that enables traversal through elements of a collection or sequence one at a time, typically using the iter() function. It supports sequential access to elements, facilitating efficient memory usage and lazy evaluation."
   ]
  },
  {
   "cell_type": "code",
   "execution_count": 35,
   "id": "9a92a25a-5e67-4e59-8c4b-4df2c35e3f50",
   "metadata": {},
   "outputs": [
    {
     "name": "stdout",
     "output_type": "stream",
     "text": [
      "1 2 3 4 Ajay 10 21 32 54 5 "
     ]
    }
   ],
   "source": [
    "lis = [1,2,3,4,\"Ajay\",10,21,32,54,5]\n",
    "s = iter(lis)\n",
    "while True:\n",
    "    try:\n",
    "        print(next(s),end=\" \")\n",
    "    except StopIteration:\n",
    "        break\n",
    "    "
   ]
  },
  {
   "cell_type": "code",
   "execution_count": 13,
   "id": "dbbaf81c-f1ba-453e-9d0d-3ede8b3f8818",
   "metadata": {},
   "outputs": [
    {
     "name": "stdin",
     "output_type": "stream",
     "text": [
      "Enter the number :  10\n"
     ]
    }
   ],
   "source": [
    "# 6 Write a code thot generates the squares of numbers from 1 to n using a generator.\n",
    "\n",
    "def square(n):\n",
    "    for i in range(1,n+1):\n",
    "        yield i**2\n",
    "n = int(input(\"Enter the number : \"))\n",
    "a = square(n)"
   ]
  },
  {
   "cell_type": "code",
   "execution_count": 15,
   "id": "a7963e00-00fc-4aed-9bc0-6cbf89b336a4",
   "metadata": {},
   "outputs": [
    {
     "name": "stdout",
     "output_type": "stream",
     "text": [
      "1 4 9 16 25 36 49 64 81 100 "
     ]
    }
   ],
   "source": [
    "while True:\n",
    "    try:\n",
    "        print(next(a),end=\" \")\n",
    "    except StopIteration:\n",
    "        break"
   ]
  },
  {
   "cell_type": "code",
   "execution_count": 22,
   "id": "6916d6f0-32fb-4b4f-952c-1c456dd13f5a",
   "metadata": {},
   "outputs": [],
   "source": [
    "# 7 Write a code that generates palindromic numbers up to n using a generator\n",
    "def palindrome(n):\n",
    "    sum1 = 0\n",
    "    temp = n\n",
    "    while n>0:\n",
    "        digit = n%10\n",
    "        sum1 = sum1*10+digit\n",
    "        n = n//10\n",
    "        yield sum1 \n",
    "    if temp == sum1:\n",
    "        print(f\"palindrom {temp} == {sum1}\")\n",
    "    else:\n",
    "        print(f\" not a palindrom {temp} == {sum1}\")"
   ]
  },
  {
   "cell_type": "code",
   "execution_count": 23,
   "id": "341c8c1c-b9f0-492d-b175-e5d57306aa0f",
   "metadata": {},
   "outputs": [
    {
     "name": "stdin",
     "output_type": "stream",
     "text": [
      "Enter the number :  121\n"
     ]
    },
    {
     "name": "stdout",
     "output_type": "stream",
     "text": [
      "1\n",
      "12\n",
      "121\n",
      "palindrom 121 == 121\n"
     ]
    }
   ],
   "source": [
    "n = int(input(\"Enter the number : \"))\n",
    "a = palindrome(n)\n",
    "while True:\n",
    "    try:\n",
    "        print(next(a))\n",
    "    except StopIteration:\n",
    "        break"
   ]
  },
  {
   "cell_type": "code",
   "execution_count": 51,
   "id": "23f91153-5d04-4ec1-9dfc-e8888922c5f5",
   "metadata": {},
   "outputs": [
    {
     "name": "stdin",
     "output_type": "stream",
     "text": [
      "Enter the number 10\n"
     ]
    },
    {
     "name": "stdout",
     "output_type": "stream",
     "text": [
      "2\n",
      "4\n",
      "6\n",
      "8\n"
     ]
    }
   ],
   "source": [
    "#8 Write a code that generates even numbers 2 to n using a generator\n",
    "\n",
    "def even_checker(n):\n",
    "    for i in range(2,n):\n",
    "        if i%2==0:\n",
    "            yield i\n",
    "            \n",
    "n = int(input(\"Enter the number\"))\n",
    "a = even_checker(n)\n",
    "while True:\n",
    "    try:\n",
    "        print(next(a))\n",
    "    except StopIteration:\n",
    "        break"
   ]
  },
  {
   "cell_type": "code",
   "execution_count": 4,
   "id": "5e3d7033-22ca-4e42-a35c-cb72c4d046de",
   "metadata": {},
   "outputs": [
    {
     "name": "stdin",
     "output_type": "stream",
     "text": [
      " 10\n"
     ]
    },
    {
     "name": "stdout",
     "output_type": "stream",
     "text": [
      "1 2 4 8 "
     ]
    }
   ],
   "source": [
    "#9 Write a code that generates powers of two up to n using a generator\n",
    "def power(n):\n",
    "    i = 1\n",
    "    while n>=i:\n",
    "        yield i\n",
    "        i=i*2\n",
    "x = int(input())\n",
    "a = power(x)\n",
    "while True:\n",
    "    try:\n",
    "        print(next(a),end=\" \")\n",
    "    except StopIteration:\n",
    "        break"
   ]
  },
  {
   "cell_type": "code",
   "execution_count": 5,
   "id": "2e9c06d6-79e7-41b6-a31d-03bc2cdcf173",
   "metadata": {},
   "outputs": [
    {
     "name": "stdout",
     "output_type": "stream",
     "text": [
      "Prime numbers up to 50 :\n",
      "2 3 5 7 11 13 17 19 23 29 31 37 41 43 47 "
     ]
    }
   ],
   "source": [
    "#10 Write a code that generates prime numbers up to n using a generator\n",
    "\n",
    "def is_prime(num):\n",
    "    if num <= 1:\n",
    "        return False\n",
    "    for i in range(2, int(num**0.5) + 1):\n",
    "        if num % i == 0:\n",
    "            return False\n",
    "    return True\n",
    "\n",
    "def prime_generator(n):\n",
    "    for num in range(2, n + 1):\n",
    "        if is_prime(num):\n",
    "            yield num\n",
    "n = 50\n",
    "print(\"Prime numbers up to\", n, \":\")\n",
    "for prime in prime_generator(n):\n",
    "    print(prime, end=\" \")\n",
    "    "
   ]
  },
  {
   "cell_type": "code",
   "execution_count": 9,
   "id": "6192fd4a-81a8-4e68-b3cb-96579aea15e7",
   "metadata": {},
   "outputs": [
    {
     "data": {
      "text/plain": [
       "9"
      ]
     },
     "execution_count": 9,
     "metadata": {},
     "output_type": "execute_result"
    }
   ],
   "source": [
    "#11 Write a code that uses a lambda function to calculate the sum of two numbers\n",
    "\n",
    "l = lambda a,b : a+b \n",
    "l(5,4)"
   ]
  },
  {
   "cell_type": "code",
   "execution_count": 10,
   "id": "e618b798-38fc-4b5f-afae-8742980e6f33",
   "metadata": {},
   "outputs": [
    {
     "name": "stdin",
     "output_type": "stream",
     "text": [
      "Enter number 5\n",
      "Enter sqaure 2\n"
     ]
    },
    {
     "data": {
      "text/plain": [
       "25"
      ]
     },
     "execution_count": 10,
     "metadata": {},
     "output_type": "execute_result"
    }
   ],
   "source": [
    "# 12 Write a code that uses a lambda function to calculate the square of a given number\n",
    "\n",
    "square = lambda x,n : x**n\n",
    "num = int(input(\"Enter number\"))\n",
    "sqr = int(input(\"Enter sqaure\"))\n",
    "square(num,sqr)"
   ]
  },
  {
   "cell_type": "code",
   "execution_count": 18,
   "id": "3dfc9edf-d0d5-4329-97f7-899cd73fa60c",
   "metadata": {},
   "outputs": [
    {
     "name": "stdin",
     "output_type": "stream",
     "text": [
      "Enter the number: 25\n"
     ]
    },
    {
     "name": "stdout",
     "output_type": "stream",
     "text": [
      "odd 25\n"
     ]
    }
   ],
   "source": [
    "# 13 Write a code that uses a lambda function to check whether a given number is even or odd\n",
    "\n",
    "check = lambda x: print(f'even {x}') if x%2==0  else print(f'odd {x}')\n",
    "check(int(input(\"Enter the number:\" )))"
   ]
  },
  {
   "cell_type": "code",
   "execution_count": 2,
   "id": "bffbeb76-d9b6-42b2-b6f9-f70260d99d84",
   "metadata": {},
   "outputs": [
    {
     "name": "stdin",
     "output_type": "stream",
     "text": [
      "Enter first string: Affan \n",
      "Enter Second String:  Khan\n"
     ]
    },
    {
     "data": {
      "text/plain": [
       "'Affan  Khan'"
      ]
     },
     "execution_count": 2,
     "metadata": {},
     "output_type": "execute_result"
    }
   ],
   "source": [
    "#15 Write a code that uses a lambda function to concatenate two strings\n",
    "con = lambda a,b: str(a)+' '+str(b)\n",
    "m = input(\"Enter first string:\")\n",
    "n = input(\"Enter Second String: \")\n",
    "con(m,n)"
   ]
  },
  {
   "cell_type": "code",
   "execution_count": 4,
   "id": "09c71ac9-cb1c-407f-a59c-549ea7955137",
   "metadata": {},
   "outputs": [
    {
     "data": {
      "text/plain": [
       "7"
      ]
     },
     "execution_count": 4,
     "metadata": {},
     "output_type": "execute_result"
    }
   ],
   "source": [
    "# 16 Write a code that uses a lambda function to find the maximum of three given numbers\n",
    "maxm = lambda a, b, c: max(a, b, c) \n",
    "maxm(5,6,7)"
   ]
  },
  {
   "cell_type": "code",
   "execution_count": 16,
   "id": "c56c3bd4-4c73-4485-ae94-ef1c2c0fb6ab",
   "metadata": {},
   "outputs": [
    {
     "name": "stdout",
     "output_type": "stream",
     "text": [
      "[484, 1936, 144, 7744, 8100, 4624, 3136, 5776, 484]\n"
     ]
    }
   ],
   "source": [
    "# 17 Write a code that generates the squares of even numbers from a given list\n",
    "num = [1,22,44,55,67,12,43,88,90,68,43,56,76,21,22]\n",
    "\n",
    "sq_num = [(lambda x:x**2)(i) for i in num if i%2==0]\n",
    "print(sq_num)"
   ]
  },
  {
   "cell_type": "code",
   "execution_count": 20,
   "id": "82da218d-f047-49bb-9d6c-5e1bbf5f941b",
   "metadata": {},
   "outputs": [
    {
     "name": "stdout",
     "output_type": "stream",
     "text": [
      "7200\n"
     ]
    }
   ],
   "source": [
    "#18 Write a code that calculates the product of positive numbers from a given list\n",
    "numbers = [1, -2, 3, -4, 5, 6, -7, 8, -9, 10]\n",
    "from functools import reduce\n",
    "pov_num = reduce(lambda x, y: x * y,filter(lambda x : x>0,numbers),1)\n",
    "print(pov_num)"
   ]
  },
  {
   "cell_type": "code",
   "execution_count": 31,
   "id": "a7c3b1b3-fe74-4e17-8537-a488383265ef",
   "metadata": {},
   "outputs": [
    {
     "name": "stdout",
     "output_type": "stream",
     "text": [
      "[1, 2, 3, 4, 5, 6, 7, 8, 9, 10, 11, 12, 13, 14, 15, 16, 17, 18, 19, 20]\n",
      "[2, 6, 10, 14, 18, 22, 26, 30, 34, 38]\n"
     ]
    }
   ],
   "source": [
    "#19 Write a code that doubles the values of odd number from a given list\n",
    "def double_odd_numbers(numbers):\n",
    "    for i in range(len(numbers)):\n",
    "        if numbers[i] % 2 != 0:\n",
    "            numbers[i]  = numbers[i] *2\n",
    "    return numbers\n",
    "numbers_list = [1, 2, 3, 4, 5, 6, 7, 8, 9, 10]\n",
    "result = double_odd_numbers(numbers_list)\n",
    "result"
   ]
  },
  {
   "cell_type": "code",
   "execution_count": 25,
   "id": "15fd4e2a-5413-48f7-a87e-924a43a89e5f",
   "metadata": {},
   "outputs": [
    {
     "data": {
      "text/plain": [
       "225"
      ]
     },
     "execution_count": 25,
     "metadata": {},
     "output_type": "execute_result"
    }
   ],
   "source": [
    "# 20 Write a code that calculates the sum of cubes of numbers from a given list\n",
    "numbers = [1, 2, 3, 4, 5]\n",
    "\n",
    "l1 = map(lambda x:x**3,numbers)\n",
    "\n",
    "sum(l1)\n",
    "\n"
   ]
  },
  {
   "cell_type": "code",
   "execution_count": 1,
   "id": "a8ba40dc-37f8-4a40-99a7-902a80342f3a",
   "metadata": {},
   "outputs": [
    {
     "name": "stdout",
     "output_type": "stream",
     "text": [
      "[2, 3, 5, 7]\n"
     ]
    }
   ],
   "source": [
    "# 21 Write a code that filters out prime numbers from a given list\n",
    "def is_prime(num):\n",
    "    if num <= 1:\n",
    "        return False\n",
    "    for i in range(2, int(num ** 0.5) + 1):\n",
    "        if num % i == 0:\n",
    "            return False\n",
    "    return True\n",
    "\n",
    "def filter_primes(numbers):\n",
    "    return [num for num in numbers if is_prime(num)]\n",
    "\n",
    "numbers = [1, 2, 3, 4, 5, 6, 7, 8, 9, 10]\n",
    "prime_numbers = filter_primes(numbers)\n",
    "print(prime_numbers)\n"
   ]
  },
  {
   "cell_type": "code",
   "execution_count": 5,
   "id": "db4cd4cb-2ca1-4fe7-b6cd-05a0b652d364",
   "metadata": {},
   "outputs": [
    {
     "data": {
      "text/plain": [
       "7"
      ]
     },
     "execution_count": 5,
     "metadata": {},
     "output_type": "execute_result"
    }
   ],
   "source": [
    "# 22 Write a code that uses a lambda function to calculate the sum of two numbers\n",
    "sum1 = lambda x,y:x+y if type(x) == int and type(y) == int else print(\"this two are not integer\")\n",
    "sum1(2,5)"
   ]
  },
  {
   "cell_type": "code",
   "execution_count": 7,
   "id": "b24d9f63-4ee1-4c2a-9b59-07dd921fb6bb",
   "metadata": {},
   "outputs": [
    {
     "data": {
      "text/plain": [
       "25"
      ]
     },
     "execution_count": 7,
     "metadata": {},
     "output_type": "execute_result"
    }
   ],
   "source": [
    "# 23 Write a code that uses a lambda function to calculate the square of a given number\n",
    "sqr = lambda x:x**2\n",
    "sqr(5)"
   ]
  },
  {
   "cell_type": "code",
   "execution_count": 16,
   "id": "880f479a-9bc4-4fb8-8f7b-e9fe812e6193",
   "metadata": {},
   "outputs": [
    {
     "name": "stdout",
     "output_type": "stream",
     "text": [
      " its a odd number 39\n",
      " its a odd number 53\n",
      "its a even number 8\n",
      " its a odd number 73\n",
      "its a even number 60\n",
      "its a even number 74\n",
      "its a even number 40\n",
      "its a even number 90\n",
      "its a even number 88\n",
      " its a odd number 77\n"
     ]
    }
   ],
   "source": [
    "# 24 Write a code that uses a lambda function to check whether a given number is even or odd\n",
    "\n",
    "check = lambda x: print(f\"its a even number {x}\") if x%2==0 else print(f\" its a odd number {x}\")\n",
    "import numpy as np\n",
    "\n",
    "x = np.random.randint(1,100,10)\n",
    "\n",
    "for i in x:\n",
    "    check(i)"
   ]
  },
  {
   "cell_type": "code",
   "execution_count": 17,
   "id": "1d33987c-2987-409a-80ab-e7b6362760f2",
   "metadata": {},
   "outputs": [
    {
     "name": "stdin",
     "output_type": "stream",
     "text": [
      " affan \n",
      " khan\n"
     ]
    },
    {
     "name": "stdout",
     "output_type": "stream",
     "text": [
      "concatenation affan khan\n"
     ]
    }
   ],
   "source": [
    "# 25 Write a code that uses a lambda function to concatenate two strings\n",
    "con = lambda x,y:print(f\"concatenation {x+y}\") if type(x)==str and type(y)==str else print(f\"the number is not in string {x} and {y}\")\n",
    "a = input()\n",
    "b = input()\n",
    "con(a,b)"
   ]
  },
  {
   "cell_type": "code",
   "execution_count": 20,
   "id": "6e3de888-b9dc-4f77-8799-4ce981e3086c",
   "metadata": {},
   "outputs": [
    {
     "name": "stdout",
     "output_type": "stream",
     "text": [
      "  the maximum number 7\n"
     ]
    }
   ],
   "source": [
    "# 26  Write a code that uses a lambda function to find the maximum of three given numbers \n",
    "let = lambda x,y,z : print(f\"  the maximum number {max(x,y,z)}\") \n",
    "let(5,3,7)"
   ]
  },
  {
   "cell_type": "raw",
   "id": "69c549ed-6fb3-4488-b0b9-c79bc821b78f",
   "metadata": {},
   "source": [
    "# 27 What is encapsulation in OOP?\n",
    "Encapsulation in Object-Oriented Programming (OOP) is the concept of bundling data and methods that operate on that data within a single unit, often referred to as a class. It promotes data hiding and abstraction, allowing for better control and management of the program's complexity."
   ]
  },
  {
   "cell_type": "raw",
   "id": "55a7f6a1-c4c5-4e57-a4c9-98049caa6dac",
   "metadata": {},
   "source": [
    "# 28 Explain the use of access modifiers in Python classes\n",
    "Access modifiers in Python classes, like \"public\", \"private\", and \"protected\", control the visibility of class members. They help enforce encapsulation, defining how members can be accessed or modified within and outside the class."
   ]
  },
  {
   "cell_type": "raw",
   "id": "f6da24bc-4207-448d-8542-961c0cb58c75",
   "metadata": {},
   "source": [
    "# 29 what is inheritance in OOPs\n",
    "In object-oriented programming, inheritance is a mechanism where a new class (subclass) can inherit properties and behaviors from an existing class (superclass), enabling code reuse and promoting hierarchical relationships between classes."
   ]
  },
  {
   "cell_type": "raw",
   "id": "d6038005-8c64-4c29-b3a1-6df802ecb7ab",
   "metadata": {},
   "source": [
    "# 30 define polymorphism in OOP\n",
    "Polymorphism in Object-Oriented Programming (OOP) allows objects of different classes to be treated as objects of a common superclass. It enables methods to be called on objects without knowing their specific types, promoting flexibility and code reuse. Polymorphism is often achieved through method overriding and method overloading."
   ]
  },
  {
   "cell_type": "raw",
   "id": "c5b855be-e036-48c1-9353-7a89e77b8080",
   "metadata": {},
   "source": [
    "# 31 Explain method overriding in Python\n",
    "Method overriding in Python involves defining a method in a subclass that has the same name and signature as a method in its superclass, thereby replacing the implementation of the superclass method with the subclass's implementation. This allows for customization of behavior specific to the subclass while maintaining the same interface as the superclass."
   ]
  },
  {
   "cell_type": "code",
   "execution_count": 1,
   "id": "11b367ec-aa0f-4023-9be1-1c929bd2acd3",
   "metadata": {},
   "outputs": [
    {
     "name": "stdout",
     "output_type": "stream",
     "text": [
      "Cat Sound\n"
     ]
    }
   ],
   "source": [
    "class Animal:\n",
    "    def sound(self):\n",
    "        print(\"Animal Sound\")\n",
    "        \n",
    "class Meow(Animal):\n",
    "    def sound(self):\n",
    "        print(\"Cat Sound\")\n",
    "\n",
    "cat = Meow()\n",
    "cat.sound()\n",
    "# here in overriding child class having more priority"
   ]
  },
  {
   "cell_type": "raw",
   "id": "5cbe0299-3a83-421b-b8da-457ebd794e0d",
   "metadata": {},
   "source": [
    "# 32 Define a parent class Animal with a method make_sound that prints \"Generic animal sound\". Create a child class Dog inheriting from Animal with a method make_sound that prints \"Woof!\""
   ]
  },
  {
   "cell_type": "code",
   "execution_count": 4,
   "id": "112b5489-75ab-422f-9426-89bf34e529d5",
   "metadata": {},
   "outputs": [
    {
     "name": "stdout",
     "output_type": "stream",
     "text": [
      "Woof!\n"
     ]
    }
   ],
   "source": [
    "class Animal:\n",
    "    def make_sound(self):\n",
    "        print(\"Generic animal sound\")\n",
    "        \n",
    "class Dog(Animal):\n",
    "    def make_sound(self):\n",
    "        print(\"Woof!\")\n",
    "obj = Dog()\n",
    "obj.make_sound()"
   ]
  },
  {
   "cell_type": "raw",
   "id": "d66eabea-8a96-4a7a-9c16-5c846c71ff7c",
   "metadata": {},
   "source": [
    "#33 Define a method move in the Animal class that prints \"Animal moves\". Override the move method in the Dog class to print \"Dog runs."
   ]
  },
  {
   "cell_type": "code",
   "execution_count": 5,
   "id": "3fe66eeb-5de1-4b46-90a0-d26b5e37a4f0",
   "metadata": {},
   "outputs": [
    {
     "name": "stdout",
     "output_type": "stream",
     "text": [
      "Animal moves\n",
      "Dog runs\n"
     ]
    }
   ],
   "source": [
    "\n",
    "class Animal:\n",
    "    def move(self):\n",
    "        print(\"Animal moves\")\n",
    "\n",
    "    def make_sound(self):\n",
    "        print(\"Generic animal sound\")\n",
    "\n",
    "class Dog(Animal):\n",
    "    def move(self):\n",
    "        print(\"Dog runs\")\n",
    "\n",
    "    def make_sound(self):\n",
    "        print(\"Woof!\")\n",
    "\n",
    "\n",
    "animal = Animal()\n",
    "animal.move()  \n",
    "\n",
    "dog = Dog()\n",
    "dog.move()  "
   ]
  },
  {
   "cell_type": "raw",
   "id": "30a10c7d-b8d8-4e98-888a-00008af37a74",
   "metadata": {},
   "source": [
    "#34 Create a class Mammal with a method reproduce that prints \"Giving birth to live young.\" Create a class DogMammal inheriting from both Dog and Mammal"
   ]
  },
  {
   "cell_type": "code",
   "execution_count": 9,
   "id": "314d4fea-8879-443d-98b1-941455a115fe",
   "metadata": {},
   "outputs": [
    {
     "name": "stdout",
     "output_type": "stream",
     "text": [
      "Dog runs\n",
      "Woof!\n",
      "Giving birth to live young\n"
     ]
    }
   ],
   "source": [
    "class Mammal:\n",
    "    def reproduce(self):\n",
    "        print(\"Giving birth to live young\")\n",
    "        \n",
    "class Dog(Animal):\n",
    "    def move(self):\n",
    "        print(\"Dog runs\")\n",
    "\n",
    "    def make_sound(self):\n",
    "        print(\"Woof!\")\n",
    "        \n",
    "class DogMammal(Dog,Mammal):\n",
    "    pass\n",
    "\n",
    "obj = DogMammal()\n",
    "obj.move()\n",
    "obj.make_sound()  \n",
    "obj.reproduce()"
   ]
  },
  {
   "cell_type": "raw",
   "id": "7849b933-fda6-4e76-92b3-cf12c8b2c860",
   "metadata": {},
   "source": [
    "# 35 Create a class GermanShepherd inheriting from Dog and override the make_sound method to print \"Bark\"!"
   ]
  },
  {
   "cell_type": "code",
   "execution_count": 10,
   "id": "55530e41-0de7-4672-afe9-e6ea7f1aa671",
   "metadata": {},
   "outputs": [
    {
     "name": "stdout",
     "output_type": "stream",
     "text": [
      "Bark\n"
     ]
    }
   ],
   "source": [
    "class GermanShepherd:\n",
    "    def make_sound(self):\n",
    "        print(\"Woof\")\n",
    "        \n",
    "class Dog(GermanShepherd):\n",
    "    def make_sound(self):\n",
    "        print(\"Bark\")\n",
    "        \n",
    "dog = Dog()\n",
    "dog.make_sound()"
   ]
  },
  {
   "cell_type": "raw",
   "id": "6d701c5f-550b-479b-8d4e-a475cca1f924",
   "metadata": {},
   "source": [
    "#36 Define constructors in both the Animal and Dog classes with different initialization parameters"
   ]
  },
  {
   "cell_type": "code",
   "execution_count": 45,
   "id": "79389363-2907-4824-ae1e-93f3109563d2",
   "metadata": {},
   "outputs": [],
   "source": [
    "class Animal:\n",
    "    def __init__(self,sound,species):\n",
    "        self.sound = sound\n",
    "        self.species = species\n",
    "        \n",
    "    def animal_method(self):\n",
    "        print(f\"sound produce by animal {self.sound} and species is {self.species}\")\n",
    " \n",
    "        \n",
    "class Dog(Animal):\n",
    "    def __init__(self,name,sound,species=\"Germen shephard\"):\n",
    "        super().__init__(sound,species)\n",
    "        self.name = name\n",
    "        \n",
    "        \n",
    "    def dog_method(self):\n",
    "        print(f\"name of dog {self.name}  and sound it produce {self.sound}\")\n",
    "        \n",
    "        \n",
    "        \n",
    "        "
   ]
  },
  {
   "cell_type": "code",
   "execution_count": 49,
   "id": "3fd71a60-3e39-4b14-9efc-42d613cbbb8f",
   "metadata": {},
   "outputs": [
    {
     "name": "stdout",
     "output_type": "stream",
     "text": [
      "name of dog Tommy  and sound it produce WOOF\n"
     ]
    }
   ],
   "source": [
    "obj=Dog(\"Tommy\",\"WOOF\")\n",
    "obj.dog_method()"
   ]
  },
  {
   "cell_type": "code",
   "execution_count": 52,
   "id": "95bcad4e-6c41-4364-97a5-2ff6fb09a46c",
   "metadata": {},
   "outputs": [
    {
     "name": "stdout",
     "output_type": "stream",
     "text": [
      "sound produce by animal WOOF and species is Germen shephard\n"
     ]
    }
   ],
   "source": [
    "obj.animal_method()"
   ]
  },
  {
   "cell_type": "code",
   "execution_count": 57,
   "id": "807288ab-c45d-40f8-8f05-007fc66c39a8",
   "metadata": {},
   "outputs": [
    {
     "name": "stdout",
     "output_type": "stream",
     "text": [
      "sound produce by animal ROAR and species is LION\n"
     ]
    }
   ],
   "source": [
    "obj1 = Animal(\"ROAR\",\"LION\")\n",
    "obj1.animal_method()"
   ]
  },
  {
   "cell_type": "code",
   "execution_count": 60,
   "id": "2b7cbfcf-f797-4a4b-8f4d-77378bebd248",
   "metadata": {},
   "outputs": [],
   "source": [
    "#37 What is abstraction in Python? How is it implemented"
   ]
  },
  {
   "cell_type": "raw",
   "id": "6d70cc59-1814-4b10-a285-95adf187e553",
   "metadata": {},
   "source": [
    "# Abstraction >> concept of hiding the complex implementation details of particular functionality only showing the necessary features to outside of the world \n",
    "# in simple word abstraction means hiding complexity"
   ]
  },
  {
   "cell_type": "code",
   "execution_count": 63,
   "id": "f77afbf3-356a-4d71-85e9-b2a238f0ed5b",
   "metadata": {},
   "outputs": [],
   "source": [
    "import abc\n",
    "class Gate:\n",
    "    @abc.abstractmethod\n",
    "    def assignment(self):\n",
    "        pass\n",
    "    \n",
    "    \n",
    "    @abc.abstractmethod\n",
    "    def marks(self):\n",
    "        pass"
   ]
  },
  {
   "cell_type": "code",
   "execution_count": 64,
   "id": "45ddfdfb-4c28-4712-948b-cb453888d64f",
   "metadata": {},
   "outputs": [],
   "source": [
    "class Pwskills(Gate):\n",
    "    def assignment(self):\n",
    "        return \"assigment of discrete maths\"\n",
    "    def marks(self):\n",
    "        return \"around 80% marks he have scored\""
   ]
  },
  {
   "cell_type": "code",
   "execution_count": 67,
   "id": "b06f3965-226f-4a2d-bec0-4a216ca30875",
   "metadata": {},
   "outputs": [
    {
     "data": {
      "text/plain": [
       "'assigment of discrete maths'"
      ]
     },
     "execution_count": 67,
     "metadata": {},
     "output_type": "execute_result"
    }
   ],
   "source": [
    "obj = Pwskills()\n",
    "obj.assignment()"
   ]
  },
  {
   "cell_type": "code",
   "execution_count": 68,
   "id": "373438bd-57ef-47f0-b93d-ab2c1baa6c0c",
   "metadata": {},
   "outputs": [
    {
     "data": {
      "text/plain": [
       "'around 80% marks he have scored'"
      ]
     },
     "execution_count": 68,
     "metadata": {},
     "output_type": "execute_result"
    }
   ],
   "source": [
    "obj.marks()"
   ]
  },
  {
   "cell_type": "raw",
   "id": "bf0191fd-6569-4b0d-8a10-031560531727",
   "metadata": {},
   "source": [
    "#38 Explain the importance of abstraction in object-oriented programming"
   ]
  },
  {
   "cell_type": "raw",
   "id": "091dddab-6da2-4c8d-a38b-440adc053fd5",
   "metadata": {},
   "source": [
    "Abstraction in object-oriented programming hides implementation details and exposes only essential features, facilitating clear and concise design. It enables modularity by allowing objects to interact based on defined interfaces rather than internal complexities. Abstraction promotes code reuse and maintenance by separating concerns and reducing dependencies between components. It enhances scalability by enabling the creation of hierarchies of increasingly specialized classes. Overall, abstraction fosters flexibility and adaptability, empowering developers to manage complexity and build robust, adaptable systems."
   ]
  },
  {
   "cell_type": "raw",
   "id": "042df48f-bf3c-46b9-aeff-f5ef0ffdda25",
   "metadata": {},
   "source": [
    "#39 How are abstract methods different from regular methods in Python"
   ]
  },
  {
   "cell_type": "raw",
   "id": "499d8446-0285-48d9-9e9b-814f6e860288",
   "metadata": {},
   "source": [
    "\n",
    "Abstract methods in Python are methods defined within an abstract base class (ABC) that do not have an implementation. They are meant to be overridden by subclasses, forcing them to provide their own implementation. Regular methods, on the other hand, have a defined implementation in the class where they are declared."
   ]
  },
  {
   "cell_type": "raw",
   "id": "9c7e2a69-154b-47d7-bcc9-40e3fde44876",
   "metadata": {},
   "source": [
    "#40 How can you achieve abstraction using interfaces in Python"
   ]
  },
  {
   "cell_type": "code",
   "execution_count": null,
   "id": "55844065-12af-4f22-8788-73d15e2ccce1",
   "metadata": {},
   "outputs": [],
   "source": [
    "#In Python, abstraction can be achieved using interfaces through the use of abstract base classes (ABCs) provided by the abc module.\n",
    "#Here's how you can define an interface using ABCs:"
   ]
  },
  {
   "cell_type": "code",
   "execution_count": 70,
   "id": "2d06c22f-d5e1-420a-a81e-3fe25302281e",
   "metadata": {},
   "outputs": [
    {
     "data": {
      "text/plain": [
       "'assigment of discrete maths'"
      ]
     },
     "execution_count": 70,
     "metadata": {},
     "output_type": "execute_result"
    }
   ],
   "source": [
    "import abc\n",
    "class Gate:\n",
    "    @abc.abstractmethod\n",
    "    def assignment(self):\n",
    "        pass\n",
    "    \n",
    "    \n",
    "    @abc.abstractmethod\n",
    "    def marks(self):\n",
    "        pass\n",
    "    \n",
    "class Pwskills(Gate):\n",
    "    def assignment(self):\n",
    "        return \"assigment of discrete maths\"\n",
    "    def marks(self):\n",
    "        return \"around 80% marks he have scored\"\n",
    "obj = Pwskills()\n",
    "obj.assignment()"
   ]
  },
  {
   "cell_type": "raw",
   "id": "4ff0b689-f3f8-42ba-92cc-d688753d68fb",
   "metadata": {},
   "source": [
    "41 Can you provide an example of how abstraction can be utilized to create a common interface for a group \n",
    "of related classes in Python"
   ]
  },
  {
   "cell_type": "code",
   "execution_count": 2,
   "id": "fe331ece-e87c-4c07-9a10-2f1292dfc171",
   "metadata": {},
   "outputs": [],
   "source": [
    "import abc\n",
    "class Vehicle:\n",
    "    def __init__(self,make,model):\n",
    "        self.make = make\n",
    "        self.model = model\n",
    "        \n",
    "    @abc.abstractmethod\n",
    "    def drive(self):\n",
    "        pass\n",
    "    \n",
    "    \n",
    "    @abc.abstractmethod\n",
    "    def stop(self):\n",
    "        pass\n",
    "    \n",
    "        "
   ]
  },
  {
   "cell_type": "code",
   "execution_count": 3,
   "id": "f1444606-f396-47e7-9585-acbdf0f5cdfe",
   "metadata": {},
   "outputs": [],
   "source": [
    "class Car(Vehicle):\n",
    "    def drive(self):\n",
    "        print(f\"{self.make} {self.model} is driving on the road\")\n",
    "    def stop(self):\n",
    "        print(f\"{self.make} {self.model} is stop on the road\")\n",
    "        \n",
    "class Bike(Vehicle):\n",
    "    def drive(self):\n",
    "        print(f\"{self.make} {self.model} is driving on the road\")\n",
    "    def stop(self):\n",
    "        print(f\"{self.make} {self.model} is stop on the road\")\n",
    "    \n",
    "    \n",
    "        \n",
    "        "
   ]
  },
  {
   "cell_type": "code",
   "execution_count": 5,
   "id": "5600b594-0913-4aa1-aae3-fee47bce8759",
   "metadata": {},
   "outputs": [
    {
     "name": "stdout",
     "output_type": "stream",
     "text": [
      "Tata Fortuner is driving on the road\n",
      "Tata Fortuner is stop on the road\n"
     ]
    }
   ],
   "source": [
    "car = Car(\"Tata\",\"Fortuner\")\n",
    "car.drive()\n",
    "car.stop()"
   ]
  },
  {
   "cell_type": "raw",
   "id": "af8300ed-4f2f-421f-9489-a0669b3b8ba9",
   "metadata": {},
   "source": [
    "42 How does Python achieve polymorphism through method overriding"
   ]
  },
  {
   "cell_type": "code",
   "execution_count": 7,
   "id": "5c910de6-483f-44dc-954a-0d15affd0a6b",
   "metadata": {},
   "outputs": [
    {
     "name": "stdout",
     "output_type": "stream",
     "text": [
      "Cat Meow\n"
     ]
    }
   ],
   "source": [
    "\n",
    "#In Python, polymorphism is achieved through method overriding, which allows subclasses to provide a specific implementation of a method that is already defined in its superclass.\n",
    "# When a method is called on an object\n",
    "\n",
    "class Animal:\n",
    "    def make_sound(self):\n",
    "        print(f\"Lion Roar\")\n",
    "        \n",
    "    def make_sound(self):\n",
    "        print(f\"Dog Woof\")\n",
    "        \n",
    "    def make_sound(self):\n",
    "        print(f\"Cat Meow\")\n",
    "        \n",
    "obj=Animal()\n",
    "obj.make_sound()"
   ]
  },
  {
   "cell_type": "raw",
   "id": "6fc1e335-7224-497e-97d1-87b820a2f407",
   "metadata": {},
   "source": [
    "43 Define a base class with a method and a subclass that overrides the method"
   ]
  },
  {
   "cell_type": "code",
   "execution_count": 8,
   "id": "bb094857-b02d-4d5a-b4ad-307b45e0fcf8",
   "metadata": {},
   "outputs": [
    {
     "name": "stdout",
     "output_type": "stream",
     "text": [
      "This is the method from Subclass \n"
     ]
    }
   ],
   "source": [
    "class Baseclass:\n",
    "    def my_method(self):\n",
    "        print(\"This is the method from Baseclass\")\n",
    "class Subclass(Baseclass):\n",
    "    def my_method(self):\n",
    "        print(\"This is the method from Subclass \")\n",
    "        \n",
    "obj = Subclass()\n",
    "obj.my_method()"
   ]
  },
  {
   "cell_type": "raw",
   "id": "e3343213-495c-45a6-a479-9aec8ee812a8",
   "metadata": {},
   "source": [
    "44 Define a base class and multiple subclasses with overridden methods"
   ]
  },
  {
   "cell_type": "code",
   "execution_count": 10,
   "id": "65105604-a521-4ae7-a2f0-0be1cbc25d8a",
   "metadata": {},
   "outputs": [
    {
     "data": {
      "text/plain": [
       "'Driving Electric Car'"
      ]
     },
     "execution_count": 10,
     "metadata": {},
     "output_type": "execute_result"
    }
   ],
   "source": [
    "class Car:\n",
    "    def drive(self):\n",
    "        return \"Driving\"\n",
    "    \n",
    "class Electric(Car):\n",
    "    def drive(self):\n",
    "        return \"Driving Electric Car\"\n",
    "class Diesel(Car):\n",
    "    def drive(self):\n",
    "        return \"Driving Disel Car\"\n",
    "    \n",
    "diesel_car = Diesel()\n",
    "electric_car = Electric()\n",
    "diesel_car.drive()\n",
    "electric_car.drive()"
   ]
  },
  {
   "cell_type": "raw",
   "id": "b360f392-9972-461e-905d-e7938505c839",
   "metadata": {},
   "source": [
    "45 How does polymorphism improve code readability and reusability"
   ]
  },
  {
   "cell_type": "raw",
   "id": "6b5387c8-3adc-408e-b5a0-c5557724322c",
   "metadata": {},
   "source": [
    "Polymorphism improves code readability and reusability by:\n",
    "1. Allowing methods to accept objects of different classes that share a common interface.\n",
    "2. Enabling code to be written in a generic way, without needing to know the specific class of an object.\n",
    "3. Encouraging modular and flexible designs, where new classes can be easily added without modifying existing code.\n",
    "4. Promoting code reuse by allowing functions and methods to operate on a variety of objects, reducing duplication.\n",
    "5. Enhancing maintainability by abstracting away implementation details, making code easier to understand and modify."
   ]
  },
  {
   "cell_type": "raw",
   "id": "e12c9012-792d-4c4a-88bb-f6e6a9a749d2",
   "metadata": {},
   "source": [
    "46 Describe how Python supports polymorphism with duck typing"
   ]
  },
  {
   "cell_type": "raw",
   "id": "ef847f20-6207-4709-831a-da9df5ae5a29",
   "metadata": {},
   "source": [
    "Python supports polymorphism through duck typing, where objects are not bound to a specific class but are instead determined by their behavior.\n",
    "This means that Python focuses on the object's methods and attributes rather than its type, allowing different objects to be used interchangeably if they support the required interface.\n",
    "By following the principle of \"if it looks like a duck and quacks like a duck, it must be a duck,\" Python enables polymorphism without explicit inheritance or interfaces.\n",
    "This approach promotes flexibility and code reusability, as any object with the necessary methods can be used in contexts where those methods are expected, regardless of its class.\n",
    "Duck typing encourages a dynamic and expressive coding style, emphasizing the behavior of objects over their type."
   ]
  },
  {
   "cell_type": "raw",
   "id": "e774a125-e738-4dda-9173-a053fff42599",
   "metadata": {},
   "source": [
    "47 How do you achieve encapsulation in Python"
   ]
  },
  {
   "cell_type": "code",
   "execution_count": 2,
   "id": "e7918270-2e5b-458d-a662-9958227c4867",
   "metadata": {},
   "outputs": [
    {
     "data": {
      "text/plain": [
       "'Name of student Ramesh and degree he have Btech'"
      ]
     },
     "execution_count": 2,
     "metadata": {},
     "output_type": "execute_result"
    }
   ],
   "source": [
    "# Hiding something\n",
    "# bundling of data and methods in a form of single unit\n",
    "# for example call in mobile\n",
    "\n",
    "class Student:\n",
    "    def __init__(self,name,degree):\n",
    "        self.name = name # public variable\n",
    "        self.__degree = degree # private variable\n",
    "        \n",
    "    def show(self):\n",
    "        return f\"Name of student {self.name} and degree he have {self.__degree}\"\n",
    "    \n",
    "obj = Student(\"Ramesh\",\"Btech\")\n",
    "obj.show()"
   ]
  },
  {
   "cell_type": "raw",
   "id": "c2c1c22c-40f5-4744-8c8b-a2f2b29d6b29",
   "metadata": {},
   "source": [
    "48 Can encapsulation be bypassed in Python? If so, how"
   ]
  },
  {
   "cell_type": "code",
   "execution_count": 5,
   "id": "276cf916-1249-48fc-a2da-3072c96bfe6a",
   "metadata": {},
   "outputs": [
    {
     "data": {
      "text/plain": [
       "'Ramesh'"
      ]
     },
     "execution_count": 5,
     "metadata": {},
     "output_type": "execute_result"
    }
   ],
   "source": [
    "# Yes, encapsulation can be bypassed in Python,although it goes against the principles of object-oriented programming.\n",
    "# Python provides mechanisms to access private attributes and methods, \n",
    "# although they are not intended to be accessed directly. \n",
    "# Name Mangling\n",
    "class Myclass:\n",
    "    def __init__(self,name):\n",
    "        self.__name = name\n",
    "        \n",
    "obj = Myclass(\"Ramesh\")\n",
    "# obj.name >> cant acess because it is private variable\n",
    "obj._Myclass__name  # Accessing private attribute directly (bypassing encapsulation)"
   ]
  },
  {
   "cell_type": "code",
   "execution_count": 14,
   "id": "1c44a176-4e98-4252-9908-7d8cd04ad9ec",
   "metadata": {},
   "outputs": [],
   "source": [
    "# Using getattr() and setattr() Functions: The getattr() and setattr() functions can be used to get and set attribute values by name, \n",
    "# including private attributes. This allows bypassing encapsulation to some extent.\n",
    "class Myclass:\n",
    "    def __init__(self, name):\n",
    "        self.__name = name"
   ]
  },
  {
   "cell_type": "code",
   "execution_count": 20,
   "id": "30a90638-9a5e-4339-aec7-b9740fb094f2",
   "metadata": {},
   "outputs": [
    {
     "name": "stdout",
     "output_type": "stream",
     "text": [
      "Affan\n"
     ]
    }
   ],
   "source": [
    "obj1 = Myclass(\"Affan\") \n",
    "print(getattr(obj1, \"_Myclass__name\"))  # Accessing private attribute using getattr() (bypassing encapsulation)"
   ]
  },
  {
   "cell_type": "code",
   "execution_count": 21,
   "id": "1afbc833-8db2-4175-9376-ba7394e8021c",
   "metadata": {},
   "outputs": [],
   "source": [
    "setattr(obj1, '_Myclass__name', \"Khan\")     # Setting private attribute using setattr() (bypassing encapsulation)"
   ]
  },
  {
   "cell_type": "code",
   "execution_count": 23,
   "id": "cb503c0f-3109-46f2-a6cd-686038d94920",
   "metadata": {},
   "outputs": [
    {
     "name": "stdout",
     "output_type": "stream",
     "text": [
      "{'_Myclass__name': 'Khan'}\n"
     ]
    }
   ],
   "source": [
    "print(obj1.__dict__)"
   ]
  },
  {
   "cell_type": "raw",
   "id": "0cf58a1d-fe51-4451-951f-77ee25c38cc7",
   "metadata": {},
   "source": [
    "49 Implement a class BankAccount with a private balance attribute. Include methods to deposit, withdraw, \n",
    "and check the balance"
   ]
  },
  {
   "cell_type": "code",
   "execution_count": 34,
   "id": "483bbd36-67c2-4393-ae1a-dfc17b65210d",
   "metadata": {},
   "outputs": [],
   "source": [
    "class BankAccount:\n",
    "    def __init__(self, balance = 0):\n",
    "        self.__balance = balance  # private variable\n",
    "    def deposite(self,amount):\n",
    "        if amount>0:\n",
    "            self.__balance = self.__balance + amount\n",
    "            print(f\"Deposited amount {amount}\")\n",
    "        else:\n",
    "            print(f\"Amount is not deposited {amount}\")\n",
    "    \n",
    "    def withdraw(self, amount):\n",
    "        if 0 < amount <= self.__balance:\n",
    "            self.__balance -= amount\n",
    "            print(f\"Withdrew Rs. {amount}\")\n",
    "        else:\n",
    "            print(\"Insufficient funds or invalid withdrawal amount\")\n",
    "            \n",
    "    def checkbalance(self):\n",
    "        print(f\"Current balance is {self.__balance}\")\n",
    "\n",
    "    "
   ]
  },
  {
   "cell_type": "code",
   "execution_count": 35,
   "id": "0002baf2-5f29-42ff-8949-6c588448ba97",
   "metadata": {},
   "outputs": [
    {
     "name": "stdout",
     "output_type": "stream",
     "text": [
      "Deposited amount 100000\n",
      "Current balance is 110000\n",
      "Withdrew Rs. 5000\n",
      "Current balance is 105000\n"
     ]
    }
   ],
   "source": [
    "obj = BankAccount(10000)\n",
    "obj.deposite(100000)\n",
    "obj.checkbalance()\n",
    "obj.withdraw(5000)\n",
    "obj.checkbalance()\n",
    "# obj._BankAccount__balance  >>  to acess frivate variable"
   ]
  },
  {
   "cell_type": "raw",
   "id": "45324347-598d-496c-9ee0-93bc76087978",
   "metadata": {},
   "source": [
    "50 Develop a Person class with private attributes name and email, and methods to set and get the email\n",
    "Why is encapsulation considered a pillar of object-oriented programming (OOP)?"
   ]
  },
  {
   "cell_type": "raw",
   "id": "ffbbdaa3-d56e-47f7-9881-ecc7b13768c3",
   "metadata": {},
   "source": [
    "Encapsulation is vital in OOP because it hides internal data, ensuring data integrity and preventing accidental modification. It abstracts implementation details, simplifying code usage and maintenance. Encapsulation promotes modularity by bundling related data and behavior,cl enhancing code organization and readability. It fosters code reusability by providing a blueprint (class) for creating objects with shared behavior. Additionally, encapsulation enhances security by controlling access to data through methods, ensuring authorized access only."
   ]
  },
  {
   "cell_type": "code",
   "execution_count": 24,
   "id": "6883f610-0cd0-4751-8e91-a4562e3b9090",
   "metadata": {},
   "outputs": [],
   "source": [
    "class Person:\n",
    "    def __init__(self,name,email):\n",
    "        self.__name = name\n",
    "        self.__email = email\n",
    "        \n",
    "    def set_name(self):\n",
    "        return self.__name \n",
    "    def set_email(self):\n",
    "        return self.__email \n",
    "        \n",
    "    def get_name(self):\n",
    "        return self.__name\n",
    "    \n",
    "    def get_email(self):\n",
    "        return self.__email \n",
    "        \n",
    "    \n",
    "        "
   ]
  },
  {
   "cell_type": "code",
   "execution_count": 31,
   "id": "44d74816-d14e-4c8c-b15f-d9f022eddb62",
   "metadata": {},
   "outputs": [
    {
     "data": {
      "text/plain": [
       "'cdf123@gmail.com'"
      ]
     },
     "execution_count": 31,
     "metadata": {},
     "output_type": "execute_result"
    }
   ],
   "source": [
    "obj = Person(\"Affan\",\"cdf123@gmail.com\")\n",
    "obj.get_email()"
   ]
  },
  {
   "cell_type": "code",
   "execution_count": 32,
   "id": "769e4605-81b5-4f8a-aa0c-3e6558558738",
   "metadata": {},
   "outputs": [],
   "source": [
    "class Bank_acc:\n",
    "    def __init__(self,balance,acc_number):\n",
    "        self.balance = balance\n",
    "        self.acc_number = acc_number\n",
    "        \n",
    "    def debit(self,amount):\n",
    "        self.balance -=amount\n",
    "        return amount\n",
    "    \n"
   ]
  },
  {
   "cell_type": "code",
   "execution_count": 33,
   "id": "3b932ac6-40a3-4d57-a20a-8efa5c46d143",
   "metadata": {},
   "outputs": [
    {
     "data": {
      "text/plain": [
       "5000"
      ]
     },
     "execution_count": 33,
     "metadata": {},
     "output_type": "execute_result"
    }
   ],
   "source": [
    "acc = Bank_acc(10000,\"12345\")\n",
    "acc.debit(5000)"
   ]
  },
  {
   "cell_type": "raw",
   "id": "b889f67f-c077-485c-941f-897d5a1b4016",
   "metadata": {},
   "source": [
    "51 Why is encapsulation considered a pillar of object-oriented programming (OOP)?"
   ]
  },
  {
   "cell_type": "raw",
   "id": "f2db0a6f-457c-4980-a1c0-ad2aabb3d3e3",
   "metadata": {},
   "source": [
    "Encapsulation is fundamental in OOP because it promotes data hiding, shielding internal details from external interference. It fosters modular design by allowing objects to interact through well-defined interfaces rather than directly accessing each other's internal state. This enhances code maintainability and reduces dependencies, facilitating easier updates and modifications. Encapsulation also improves security, as it limits access to sensitive data and behavior, preventing unintended misuse. Overall, it encourages a clear separation of concerns, promoting a more robust and scalable software architecture."
   ]
  },
  {
   "cell_type": "code",
   "execution_count": 3,
   "id": "14e03f1e-272b-4c0d-a8b1-56617a01d25b",
   "metadata": {},
   "outputs": [],
   "source": [
    "class College:\n",
    "    def __init__(self,name,details):\n",
    "        self.name = name\n",
    "        self.__details = details\n",
    "        \n",
    "    def show(self):\n",
    "        return f\" Person confidential details {self.name} and  {self.__details}\""
   ]
  },
  {
   "cell_type": "code",
   "execution_count": 4,
   "id": "a7527ebb-282b-4e8a-9856-d0549d6b8683",
   "metadata": {},
   "outputs": [
    {
     "data": {
      "text/plain": [
       "' Person confidential details Affan and  12345'"
      ]
     },
     "execution_count": 4,
     "metadata": {},
     "output_type": "execute_result"
    }
   ],
   "source": [
    "obj = College(\"Affan\",\"12345\")\n",
    "obj.show()"
   ]
  },
  {
   "cell_type": "code",
   "execution_count": 5,
   "id": "58e27880-dc3f-4b39-a133-1d9c5ba8656d",
   "metadata": {},
   "outputs": [
    {
     "data": {
      "text/plain": [
       "'Affan'"
      ]
     },
     "execution_count": 5,
     "metadata": {},
     "output_type": "execute_result"
    }
   ],
   "source": [
    "obj.name # to access public variable"
   ]
  },
  {
   "cell_type": "code",
   "execution_count": 7,
   "id": "2a356eda-4b6a-4644-9d86-e1401cfe037c",
   "metadata": {},
   "outputs": [
    {
     "data": {
      "text/plain": [
       "'12345'"
      ]
     },
     "execution_count": 7,
     "metadata": {},
     "output_type": "execute_result"
    }
   ],
   "source": [
    "obj._College__details # to aceess private variable"
   ]
  },
  {
   "cell_type": "raw",
   "id": "6e62297c-c7af-45a4-889a-6b212c2139b4",
   "metadata": {},
   "source": [
    "52 Create a decorator in Python that adds functionality to a simple function by printing a message before \n",
    "and after the function execution"
   ]
  },
  {
   "cell_type": "code",
   "execution_count": 8,
   "id": "b8c9954e-9952-43c2-99c4-ab5d107779ba",
   "metadata": {},
   "outputs": [],
   "source": [
    "class Calculator:\n",
    "    @staticmethod\n",
    "    def add(x,y):\n",
    "        return x+y\n",
    "    @staticmethod\n",
    "    def sub(x,y):\n",
    "        return x-y"
   ]
  },
  {
   "cell_type": "code",
   "execution_count": 9,
   "id": "2fa15d0b-e74a-4d17-a3ed-86c0ba13218f",
   "metadata": {},
   "outputs": [],
   "source": [
    "obj = Calculator()"
   ]
  },
  {
   "cell_type": "code",
   "execution_count": 10,
   "id": "1bfb5ede-f7ba-4dac-a0aa-66cb5da61295",
   "metadata": {},
   "outputs": [
    {
     "data": {
      "text/plain": [
       "7"
      ]
     },
     "execution_count": 10,
     "metadata": {},
     "output_type": "execute_result"
    }
   ],
   "source": [
    "obj.add(3,4)"
   ]
  },
  {
   "cell_type": "code",
   "execution_count": null,
   "id": "fbb0c83f-4054-4439-bfec-a552f7f18ab5",
   "metadata": {},
   "outputs": [],
   "source": [
    "53 Modify the decorator to accept arguments and print the function name along with the message"
   ]
  },
  {
   "cell_type": "code",
   "execution_count": 11,
   "id": "3401978b-5080-4158-8393-ea88786e52a7",
   "metadata": {},
   "outputs": [
    {
     "name": "stdout",
     "output_type": "stream",
     "text": [
      "Function example_function says: Hello, world!\n",
      "Inside example_function\n"
     ]
    }
   ],
   "source": [
    "from functools import wraps\n",
    "\n",
    "def my_decorator_with_args(message):\n",
    "    def decorator(func):\n",
    "        @wraps(func)\n",
    "        def wrapper(*args, **kwargs):\n",
    "            print(f\"Function {func.__name__} says: {message}\")\n",
    "            return func(*args, **kwargs)\n",
    "        return wrapper\n",
    "    return decorator\n",
    "\n",
    "# Example usage:\n",
    "@my_decorator_with_args(\"Hello, world!\")\n",
    "def example_function():\n",
    "    print(\"Inside example_function\")\n",
    "\n",
    "example_function()"
   ]
  },
  {
   "cell_type": "raw",
   "id": "6fa48f75-da38-4937-b941-48694733e5de",
   "metadata": {},
   "source": [
    "54 Create two decorators, and apply them to a single function. Ensure that they execute in the order they are \n",
    "applied"
   ]
  },
  {
   "cell_type": "code",
   "execution_count": 16,
   "id": "85c45cd0-0256-43f5-9b5a-706260496c66",
   "metadata": {},
   "outputs": [
    {
     "name": "stdout",
     "output_type": "stream",
     "text": [
      "Decorator 1 - Before function execution\n",
      "Decorator 2 - Before function execution\n",
      "Inside example_function\n",
      "Decorator 2 - After function execution\n",
      "Decorator 1 - After function execution\n"
     ]
    }
   ],
   "source": [
    "def decorator1(func):\n",
    "    def wrapper(*args, **kwargs):\n",
    "        print(\"Decorator 1 - Before function execution\")\n",
    "        result = func(*args, **kwargs)\n",
    "        print(\"Decorator 1 - After function execution\")\n",
    "        return result\n",
    "    return wrapper\n",
    "\n",
    "def decorator2(func):\n",
    "    def wrapper(*args, **kwargs):\n",
    "        print(\"Decorator 2 - Before function execution\")\n",
    "        result = func(*args, **kwargs)\n",
    "        print(\"Decorator 2 - After function execution\")\n",
    "        return result\n",
    "    return wrapper\n",
    "\n",
    "@decorator1\n",
    "@decorator2\n",
    "def example_function():\n",
    "    print(\"Inside example_function\")\n",
    "\n",
    "example_function()\n"
   ]
  },
  {
   "cell_type": "code",
   "execution_count": null,
   "id": "af2b97df-c6a4-47dd-b505-d1cb28450d17",
   "metadata": {},
   "outputs": [],
   "source": [
    "55 Modify the decorator to accept and pass function arguments to the wrapped function"
   ]
  },
  {
   "cell_type": "code",
   "execution_count": null,
   "id": "7e2ec409-1515-49db-897b-4229eb65652a",
   "metadata": {},
   "outputs": [],
   "source": [
    "from functools import wraps\n",
    "\n",
    "def decorator1(func):\n",
    "    @wraps(func)\n",
    "    def wrapper(*args, **kwargs):\n",
    "        print(\"Decorator 1 - Before function execution\")\n",
    "        result = func(*args, **kwargs)\n",
    "        print(\"Decorator 1 - After function execution\")\n",
    "        return result\n",
    "    return wrapper\n",
    "\n",
    "def decorator2(func):\n",
    "    @wraps(func)\n",
    "    def wrapper(*args, **kwargs):\n",
    "        print(\"Decorator 2 - Before function execution\")\n",
    "        result = func(*args, **kwargs)\n",
    "        print(\"Decorator 2 - After function execution\")\n",
    "        return result\n",
    "    return wrapper\n",
    "\n",
    "@decorator1\n",
    "@decorator2\n",
    "def example_function(arg1, arg2):\n",
    "    print(\"Inside example_function with arguments:\", arg1, arg2)\n",
    "\n",
    "example_function(\"arg1_value\", \"arg2_value\")\n"
   ]
  },
  {
   "cell_type": "raw",
   "id": "509407bc-8cd0-4a70-866b-9d29ec2e6bbc",
   "metadata": {},
   "source": [
    "56 Create a decorator that preserves the metadata of the original function"
   ]
  },
  {
   "cell_type": "code",
   "execution_count": 18,
   "id": "18191f8b-d2df-45b0-9703-89bc41c675cd",
   "metadata": {},
   "outputs": [
    {
     "name": "stdout",
     "output_type": "stream",
     "text": [
      "original_function\n",
      "This is the original function\n"
     ]
    }
   ],
   "source": [
    "from functools import wraps\n",
    "\n",
    "def preserve_metadata(original_func):\n",
    "    def decorator(wrapper_func):\n",
    "        @wraps(original_func)\n",
    "        def wrapped(*args, **kwargs):\n",
    "            return wrapper_func(*args, **kwargs)\n",
    "        return wrapped\n",
    "    return decorator\n",
    "\n",
    "@preserve_metadata\n",
    "def original_function():\n",
    "    \"\"\"This is the original function\"\"\"\n",
    "    pass\n",
    "\n",
    "@original_function\n",
    "def decorated_function():\n",
    "    \"\"\"This is the decorated function\"\"\"\n",
    "    pass\n",
    "\n",
    "print(decorated_function.__name__)  \n",
    "print(decorated_function.__doc__)   \n"
   ]
  },
  {
   "cell_type": "raw",
   "id": "d9fc11e2-ee56-457a-a09d-62d0ec20eca8",
   "metadata": {},
   "source": [
    " 57 Create a Python class `Calculator` with a static method `add` that takes in two numbers and returns their \n",
    "sum"
   ]
  },
  {
   "cell_type": "code",
   "execution_count": 19,
   "id": "2779f97c-2cb6-4fcc-92a3-105fdb017cbc",
   "metadata": {},
   "outputs": [
    {
     "data": {
      "text/plain": [
       "9"
      ]
     },
     "execution_count": 19,
     "metadata": {},
     "output_type": "execute_result"
    }
   ],
   "source": [
    "class Calculator:\n",
    "    @staticmethod\n",
    "    def add(x,y):\n",
    "        return x+y\n",
    "    \n",
    "obj = Calculator()\n",
    "obj.add(5,4)"
   ]
  },
  {
   "cell_type": "raw",
   "id": "472f6388-92b2-4dc1-bd59-0402fad13a8d",
   "metadata": {},
   "source": [
    "58 Create a Python class `Employee` with a class `method get_employee_count` that returns the total \n",
    "number of employees created"
   ]
  },
  {
   "cell_type": "code",
   "execution_count": 28,
   "id": "f702e726-5bf5-4802-94f3-5b37aed48618",
   "metadata": {},
   "outputs": [
    {
     "data": {
      "text/plain": [
       "2"
      ]
     },
     "execution_count": 28,
     "metadata": {},
     "output_type": "execute_result"
    }
   ],
   "source": [
    "class Employee:\n",
    "    _count = 0\n",
    "    \n",
    "    def __init__(self,name):\n",
    "        self.name = name\n",
    "        Employee._count +=1\n",
    "        \n",
    "    @classmethod\n",
    "    def get_employee_count(cls):\n",
    "        return cls._count\n",
    "        \n",
    "obj1 = Employee(\"Ramu\")\n",
    "obj2 = Employee(\"Kaka\")\n",
    "\n",
    "obj1.get_employee_count()\n"
   ]
  },
  {
   "cell_type": "raw",
   "id": "27807c02-e0b3-462b-b398-92d8e63d7869",
   "metadata": {},
   "source": [
    "59 Create a Python class `StringFormatter` with a static method `reverse_string` that takes a string as input \n",
    "and returns its reverse"
   ]
  },
  {
   "cell_type": "code",
   "execution_count": 33,
   "id": "242ce1b0-abaf-46e2-a294-b483f7fd8963",
   "metadata": {},
   "outputs": [
    {
     "data": {
      "text/plain": [
       "'yajA'"
      ]
     },
     "execution_count": 33,
     "metadata": {},
     "output_type": "execute_result"
    }
   ],
   "source": [
    "class StringFormatter:\n",
    "    @staticmethod\n",
    "    def reverse_string(text):\n",
    "        string = text[::-1]\n",
    "        return string\n",
    "obj = StringFormatter()\n",
    "obj.reverse_string(\"Ajay\")\n",
    "    "
   ]
  },
  {
   "cell_type": "code",
   "execution_count": 29,
   "id": "c1bda806-6a35-4101-b7ed-5b5061511e0a",
   "metadata": {},
   "outputs": [],
   "source": [
    "def fun(text):\n",
    "    string = text[::-1]\n",
    "    return string"
   ]
  },
  {
   "cell_type": "code",
   "execution_count": 31,
   "id": "28772bde-3500-4fe8-80fc-9b4b7020f80b",
   "metadata": {},
   "outputs": [
    {
     "data": {
      "text/plain": [
       "'naffA'"
      ]
     },
     "execution_count": 31,
     "metadata": {},
     "output_type": "execute_result"
    }
   ],
   "source": [
    "fun('Affan')"
   ]
  },
  {
   "cell_type": "raw",
   "id": "ac39759b-7ad6-457a-a8bc-e64e30a62f66",
   "metadata": {},
   "source": [
    "60 Create a Python class `Circle` with a class method `calculate_area` that calculates the area of a circle \n",
    "given its radius"
   ]
  },
  {
   "cell_type": "code",
   "execution_count": 38,
   "id": "2b8dd92f-da1b-429b-b7d4-4bfc19c59332",
   "metadata": {},
   "outputs": [
    {
     "data": {
      "text/plain": [
       "78.53981633974483"
      ]
     },
     "execution_count": 38,
     "metadata": {},
     "output_type": "execute_result"
    }
   ],
   "source": [
    "import math\n",
    "class Circle:\n",
    "    @classmethod\n",
    "    def calculate_area(cls,radius):\n",
    "        return math.pi * radius**2\n",
    "c = Circle()  \n",
    "c.calculate_area(5)"
   ]
  },
  {
   "cell_type": "raw",
   "id": "0d75e645-a90e-452b-bb4c-2a73fb510500",
   "metadata": {},
   "source": [
    "61 Create a Python class `TemperatureConverter` with a static method `celsius_to_fahrenheit` that converts \n",
    "Celsius to Fahrenheit"
   ]
  },
  {
   "cell_type": "code",
   "execution_count": 41,
   "id": "9dc58f05-436d-4f18-90ab-118d4c10f31d",
   "metadata": {},
   "outputs": [
    {
     "data": {
      "text/plain": [
       "'68.0F'"
      ]
     },
     "execution_count": 41,
     "metadata": {},
     "output_type": "execute_result"
    }
   ],
   "source": [
    "class TemperatureConverter:\n",
    "    @staticmethod\n",
    "    def celsius_to_fahrenheit(num):\n",
    "        return f\"{(num*9/5) + 32}F\"\n",
    "obj=TemperatureConverter()\n",
    "obj.celsius_to_fahrenheit(20)\n"
   ]
  },
  {
   "cell_type": "raw",
   "id": "ab2a8dea-08fa-47a3-8365-e2d365255e0c",
   "metadata": {},
   "source": [
    "62 What is the purpose of the __str__() method in Python classes? Provide an example"
   ]
  },
  {
   "cell_type": "code",
   "execution_count": 44,
   "id": "3d153ade-d1b3-428d-9ba2-fe17afae9d18",
   "metadata": {},
   "outputs": [
    {
     "name": "stdout",
     "output_type": "stream",
     "text": [
      "Hello World\n"
     ]
    }
   ],
   "source": [
    "#The __str__() method in Python classes is used to return a string representation of an object. \n",
    "class Student:\n",
    "    def __str__(self):\n",
    "        return f\"Hello World\"\n",
    "print(Student())"
   ]
  },
  {
   "cell_type": "raw",
   "id": "339ae79b-909c-48ef-9b52-827f18464048",
   "metadata": {},
   "source": [
    "63 How does the __len__() method work in Python? Provide an example"
   ]
  },
  {
   "cell_type": "code",
   "execution_count": 50,
   "id": "01de069c-1fb5-4937-9ae7-ceaec569af04",
   "metadata": {},
   "outputs": [
    {
     "name": "stdout",
     "output_type": "stream",
     "text": [
      "5\n"
     ]
    }
   ],
   "source": [
    "class Check:\n",
    "    def __init__(self,data):\n",
    "        self.data = data\n",
    "        \n",
    "    def __len__(self):\n",
    "        return len(self.data)\n",
    "obj = Check([1,2,3,4,5])\n",
    "print(len(obj))\n",
    "\n"
   ]
  },
  {
   "cell_type": "code",
   "execution_count": 51,
   "id": "90629f03-97cc-45d6-bf32-30e0388a29a0",
   "metadata": {},
   "outputs": [
    {
     "name": "stdout",
     "output_type": "stream",
     "text": [
      "4\n"
     ]
    }
   ],
   "source": [
    "obj1 = Check(\"Ajay\")\n",
    "print(len(obj1))"
   ]
  },
  {
   "cell_type": "raw",
   "id": "abe28018-29c4-4d74-a588-dfe45da60657",
   "metadata": {},
   "source": [
    "64 Explain the usage of the __add__() method in Python classes. Provide an example"
   ]
  },
  {
   "cell_type": "raw",
   "id": "aad38941-baa2-49d0-ac2d-ef00fbeaf13d",
   "metadata": {},
   "source": [
    "The __add__() method in Python classes is used to define the behavior of the addition operation between instances of a class. It allows you to customize how objects of your class respond when the + operator is applied to them."
   ]
  },
  {
   "cell_type": "code",
   "execution_count": 1,
   "id": "c8a6a283-9135-4a0b-ad46-7ec9f745a254",
   "metadata": {},
   "outputs": [
    {
     "name": "stdout",
     "output_type": "stream",
     "text": [
      "Resulting Point: (4, 6)\n"
     ]
    }
   ],
   "source": [
    "class Point:\n",
    "    def __init__(self, x, y):\n",
    "        self.x = x\n",
    "        self.y = y\n",
    "\n",
    "    def __add__(self, other):\n",
    "        new_x = self.x + other.x\n",
    "        new_y = self.y + other.y\n",
    "        return Point(new_x, new_y)\n",
    "\n",
    "point1 = Point(1, 2)\n",
    "point2 = Point(3, 4)\n",
    "\n",
    "result = point1 + point2\n",
    "\n",
    "# Printing the result\n",
    "print(\"Resulting Point: ({}, {})\".format(result.x, result.y))\n"
   ]
  },
  {
   "cell_type": "raw",
   "id": "e9bcc20b-77ba-4d77-b365-234c8ae44ebf",
   "metadata": {},
   "source": [
    "65 What is the purpose of the __getitem__() method in Python? Provide an example"
   ]
  },
  {
   "cell_type": "raw",
   "id": "06cab66c-7e36-48b3-9528-d9c1a7797ca9",
   "metadata": {},
   "source": [
    "The __getitem__() method in Python is a special method that is used to implement the indexing behavior of a class."
   ]
  },
  {
   "cell_type": "code",
   "execution_count": 2,
   "id": "37c1a836-4e27-4fd0-8ff2-95cf80ef8a51",
   "metadata": {},
   "outputs": [
    {
     "name": "stdout",
     "output_type": "stream",
     "text": [
      "2\n"
     ]
    }
   ],
   "source": [
    "class Myclass:\n",
    "    def __init__(self,items):\n",
    "        self.items = items\n",
    "        \n",
    "    def __getitem__(self,index):\n",
    "        return self.items[index]\n",
    "    \n",
    "obj = Myclass([1,2,3,4])\n",
    "print(obj[1])\n"
   ]
  },
  {
   "cell_type": "raw",
   "id": "cad7e78c-976e-4860-8847-23032e9dacf4",
   "metadata": {},
   "source": [
    "66 Explain the usage of the __iter__() and __next__() methods in Python. Provide an example using \n",
    "iterators"
   ]
  },
  {
   "cell_type": "raw",
   "id": "1203ac46-47b6-4095-a241-7bbe70a649ba",
   "metadata": {},
   "source": [
    "In Python, the __iter__() and __next__() methods are used to create custom iterators. \n",
    "\n",
    "__iter__(): This method returns the iterator object itself. It is called when the iter() function is called on an iterable object (e.g., list, tuple, or custom object). It is responsible for initializing the iterator and preparing it for iteration.\n",
    "\n",
    "\n",
    "__next__(): This method returns the next item in the sequence. It is called repeatedly during iteration, and it should raise a StopIteration exception when there are no more elements to return."
   ]
  },
  {
   "cell_type": "code",
   "execution_count": 3,
   "id": "38afe60a-3f51-49cb-8842-db79247d6dc5",
   "metadata": {},
   "outputs": [
    {
     "name": "stdout",
     "output_type": "stream",
     "text": [
      "1\n",
      "2\n",
      "3\n",
      "4\n",
      "5\n"
     ]
    }
   ],
   "source": [
    "class MyIterator:\n",
    "    def __init__(self, data):\n",
    "        self.data = data\n",
    "        self.index = 0\n",
    "\n",
    "    def __iter__(self):\n",
    "        return self\n",
    "\n",
    "    def __next__(self):\n",
    "        if self.index >= len(self.data):\n",
    "            raise StopIteration\n",
    "        item = self.data[self.index]\n",
    "        self.index += 1\n",
    "        return item\n",
    "\n",
    "my_iterator = MyIterator([1, 2, 3, 4, 5])\n",
    "\n",
    "for item in my_iterator:\n",
    "    print(item)\n"
   ]
  },
  {
   "cell_type": "raw",
   "id": "c2765664-e104-4d50-b95b-fdd6ea213f4a",
   "metadata": {},
   "source": [
    "67 What is the purpose of a getter method in Python? Provide an example demonstrating the use of a getter \n",
    "method using property decorators"
   ]
  },
  {
   "cell_type": "raw",
   "id": "c37726d3-e2af-4a1a-9b27-db3604cd9e87",
   "metadata": {},
   "source": [
    "A getter method in Python is used to retrieve the value of a private attribute of a class. It allows controlled access to class attributes, providing encapsulation and ensuring data integrity."
   ]
  },
  {
   "cell_type": "code",
   "execution_count": 4,
   "id": "d964a8fe-ef53-4eea-b0e2-01ca5cb9bce9",
   "metadata": {},
   "outputs": [
    {
     "name": "stdout",
     "output_type": "stream",
     "text": [
      "Radius of the circle: 5\n"
     ]
    }
   ],
   "source": [
    "class Circle:\n",
    "    def __init__(self, radius):\n",
    "        self.__radius = radius  \n",
    "\n",
    "    @property\n",
    "    def radius(self):\n",
    "        return self.__radius\n",
    "\n",
    "\n",
    "my_circle = Circle(5)\n",
    "\n",
    "\n",
    "print(\"Radius of the circle:\", my_circle.radius)"
   ]
  },
  {
   "cell_type": "raw",
   "id": "9bf28c04-68fe-4434-8c04-00d7bfadda7c",
   "metadata": {},
   "source": [
    "68 Explain the role of setter methods in Python. Demonstrate how to use a setter method to modify a class \n",
    "attribute using property decorators"
   ]
  },
  {
   "cell_type": "raw",
   "id": "0ca45c9d-e37e-483d-bffc-2dfe24b507a6",
   "metadata": {},
   "source": [
    "\n",
    "Setter methods in Python, defined using the @property decorator, enable controlled modification of class attributes. They enforce validation and additional operations, ensuring data integrity. Here's a concise demonstration:"
   ]
  },
  {
   "cell_type": "code",
   "execution_count": null,
   "id": "08db085f-f914-46e0-bc54-319d32dfb09c",
   "metadata": {},
   "outputs": [
    {
     "name": "stdout",
     "output_type": "stream",
     "text": [
      "10\n",
      "20\n"
     ]
    }
   ],
   "source": [
    "class MyClass:\n",
    "    def __init__(self, attribute):\n",
    "        self._attribute = attribute\n",
    "    \n",
    "    @property\n",
    "    def attribute(self):\n",
    "        return self._attribute\n",
    "    \n",
    "    @attribute.setter\n",
    "    def attribute(self, new_value):\n",
    "        if isinstance(new_value, int):\n",
    "            self._attribute = new_value\n",
    "        else:\n",
    "            raise ValueError(\"Attribute must be an integer.\")\n",
    "\n",
    "obj = MyClass(10)\n",
    "print(obj.attribute)  # Output: 10\n",
    "obj.attribute = 20\n",
    "print(obj.attribute)  # Output: 20\n"
   ]
  },
  {
   "cell_type": "raw",
   "id": "034adb62-786f-4923-a769-44a458f2a147",
   "metadata": {},
   "source": [
    "69 What is the purpose of the @property decorator in Python? Provide an example illustrating its usage\n",
    "Explain the use of the @deleter decorator in Python property decorators. Provide a code example \n",
    "demonstrating its application"
   ]
  },
  {
   "cell_type": "raw",
   "id": "737303ee-0caa-44cc-8bc5-ef0c62338d2d",
   "metadata": {},
   "source": [
    "\n",
    "The @property decorator in Python is used to define getter methods, allowing controlled access to class attributes."
   ]
  },
  {
   "cell_type": "code",
   "execution_count": 2,
   "id": "d6d4a0f9-68c7-4bb7-9a35-3e977e533ad9",
   "metadata": {},
   "outputs": [
    {
     "name": "stdout",
     "output_type": "stream",
     "text": [
      "10\n"
     ]
    }
   ],
   "source": [
    "class Circle:\n",
    "    def __init__(self, radius):\n",
    "        self.radius = radius\n",
    "    \n",
    "    @property\n",
    "    def diameter(self):\n",
    "        return 2 * self.radius\n",
    "\n",
    "# Creating an instance and accessing the property\n",
    "circle = Circle(5)\n",
    "print(circle.diameter)  # Output: 10\n"
   ]
  },
  {
   "cell_type": "code",
   "execution_count": 5,
   "id": "88f8463c-b8a7-4426-b68f-c2f494f9bcbd",
   "metadata": {},
   "outputs": [
    {
     "name": "stdout",
     "output_type": "stream",
     "text": [
      "Alice\n"
     ]
    },
    {
     "ename": "AttributeError",
     "evalue": "'Person' object has no attribute '_name'",
     "output_type": "error",
     "traceback": [
      "\u001b[0;31m---------------------------------------------------------------------------\u001b[0m",
      "\u001b[0;31mAttributeError\u001b[0m                            Traceback (most recent call last)",
      "Cell \u001b[0;32mIn[5], line 17\u001b[0m\n\u001b[1;32m     15\u001b[0m \u001b[38;5;28mprint\u001b[39m(person\u001b[38;5;241m.\u001b[39m_name)  \u001b[38;5;66;03m# Output: Alice\u001b[39;00m\n\u001b[1;32m     16\u001b[0m \u001b[38;5;28;01mdel\u001b[39;00m person\u001b[38;5;241m.\u001b[39m_name\n\u001b[0;32m---> 17\u001b[0m \u001b[38;5;28mprint\u001b[39m(\u001b[43mperson\u001b[49m\u001b[38;5;241;43m.\u001b[39;49m\u001b[43m_name\u001b[49m)  \u001b[38;5;66;03m# Output: AttributeError: 'Person' object has no attribute '_name'\u001b[39;00m\n",
      "\u001b[0;31mAttributeError\u001b[0m: 'Person' object has no attribute '_name'"
     ]
    }
   ],
   "source": [
    "class Person:\n",
    "    def __init__(self, name):\n",
    "        self._name = name\n",
    "    \n",
    "    @property\n",
    "    def name(self):\n",
    "        return self._name\n",
    "    \n",
    "    @name.deleter\n",
    "    def name(self):\n",
    "        del self._name\n",
    "\n",
    "# Creating an instance and deleting the property\n",
    "person = Person(\"Alice\")\n",
    "print(person._name)  # Output: Alice\n",
    "del person._name\n",
    "print(person._name)  # Output: AttributeError: 'Person' object has no attribute '_name'\n"
   ]
  },
  {
   "cell_type": "code",
   "execution_count": null,
   "id": "75de35fd-ec68-439a-8122-0b6f2b441563",
   "metadata": {},
   "outputs": [],
   "source": []
  },
  {
   "cell_type": "raw",
   "id": "b7586c96-2b61-4b7e-91cf-50c499425331",
   "metadata": {},
   "source": [
    "70 How does encapsulation relate to property decorators in Python? Provide an example showcasing \n",
    "encapsulation using property decorators."
   ]
  },
  {
   "cell_type": "raw",
   "id": "4fbaa675-e636-4620-b14b-4d55c164bc6d",
   "metadata": {},
   "source": [
    "Encapsulation in Python involves bundling data with methods and controlling access. Property decorators facilitate encapsulation by providing controlled access to attributes. Here's an example demonstrating encapsulation with property decorators:"
   ]
  },
  {
   "cell_type": "code",
   "execution_count": 7,
   "id": "cdd23362-a57b-4cfc-9dd4-4632cf916ce5",
   "metadata": {},
   "outputs": [
    {
     "name": "stdout",
     "output_type": "stream",
     "text": [
      "1000\n",
      "1500\n",
      "Balance cannot be negative.\n"
     ]
    },
    {
     "ename": "AttributeError",
     "evalue": "'BankAccount' object has no attribute '_balance'",
     "output_type": "error",
     "traceback": [
      "\u001b[0;31m---------------------------------------------------------------------------\u001b[0m",
      "\u001b[0;31mAttributeError\u001b[0m                            Traceback (most recent call last)",
      "Cell \u001b[0;32mIn[7], line 29\u001b[0m\n\u001b[1;32m     27\u001b[0m     \u001b[38;5;28mprint\u001b[39m(e)\n\u001b[1;32m     28\u001b[0m \u001b[38;5;28;01mdel\u001b[39;00m account\u001b[38;5;241m.\u001b[39mbalance\n\u001b[0;32m---> 29\u001b[0m \u001b[38;5;28mprint\u001b[39m(\u001b[43maccount\u001b[49m\u001b[38;5;241;43m.\u001b[39;49m\u001b[43mbalance\u001b[49m)\n",
      "Cell \u001b[0;32mIn[7], line 7\u001b[0m, in \u001b[0;36mBankAccount.balance\u001b[0;34m(self)\u001b[0m\n\u001b[1;32m      5\u001b[0m \u001b[38;5;129m@property\u001b[39m\n\u001b[1;32m      6\u001b[0m \u001b[38;5;28;01mdef\u001b[39;00m \u001b[38;5;21mbalance\u001b[39m(\u001b[38;5;28mself\u001b[39m):\n\u001b[0;32m----> 7\u001b[0m     \u001b[38;5;28;01mreturn\u001b[39;00m \u001b[38;5;28;43mself\u001b[39;49m\u001b[38;5;241;43m.\u001b[39;49m\u001b[43m_balance\u001b[49m\n",
      "\u001b[0;31mAttributeError\u001b[0m: 'BankAccount' object has no attribute '_balance'"
     ]
    }
   ],
   "source": [
    "class BankAccount:\n",
    "    def __init__(self, balance=0):\n",
    "        self._balance = balance\n",
    "    \n",
    "    @property\n",
    "    def balance(self):\n",
    "        return self._balance\n",
    "    \n",
    "    @balance.setter\n",
    "    def balance(self, new_balance):\n",
    "        if new_balance >= 0:\n",
    "            self._balance = new_balance\n",
    "        else:\n",
    "            raise ValueError(\"Balance cannot be negative.\")\n",
    "    \n",
    "    @balance.deleter\n",
    "    def balance(self):\n",
    "        del self._balance\n",
    "\n",
    "account = BankAccount(1000)\n",
    "print(account._balance)\n",
    "account.balance = 1500\n",
    "print(account._balance)\n",
    "try:\n",
    "    account.balance = -500\n",
    "except ValueError as e:\n",
    "    print(e)\n",
    "del account.balance\n",
    "print(account.balance)\n"
   ]
  },
  {
   "cell_type": "code",
   "execution_count": null,
   "id": "16e61141-75c8-4966-b373-0468824928c4",
   "metadata": {},
   "outputs": [],
   "source": []
  }
 ],
 "metadata": {
  "kernelspec": {
   "display_name": "Python 3 (ipykernel)",
   "language": "python",
   "name": "python3"
  },
  "language_info": {
   "codemirror_mode": {
    "name": "ipython",
    "version": 3
   },
   "file_extension": ".py",
   "mimetype": "text/x-python",
   "name": "python",
   "nbconvert_exporter": "python",
   "pygments_lexer": "ipython3",
   "version": "3.10.8"
  }
 },
 "nbformat": 4,
 "nbformat_minor": 5
}
